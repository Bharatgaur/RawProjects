{
  "cells": [
    {
      "cell_type": "markdown",
      "metadata": {
        "id": "view-in-github",
        "colab_type": "text"
      },
      "source": [
        "<a href=\"https://colab.research.google.com/github/Bharatgaur/RawProjects/blob/main/Python_Data_Type_String_Exercises.ipynb\" target=\"_parent\"><img src=\"https://colab.research.google.com/assets/colab-badge.svg\" alt=\"Open In Colab\"/></a>"
      ]
    },
    {
      "cell_type": "markdown",
      "source": [
        "# **1. Write a Python program to calculate the length of a string.**"
      ],
      "metadata": {
        "id": "PTJMI4W-59DU"
      }
    },
    {
      "cell_type": "code",
      "source": [
        "def string_length(str1):\n",
        "  count = 0\n",
        "  for char in str1:\n",
        "    count += 1\n",
        "\n",
        "  return count\n",
        "\n",
        "print(string_length('Bharat Gaur'))"
      ],
      "metadata": {
        "colab": {
          "base_uri": "https://localhost:8080/"
        },
        "id": "32kDrTC04gUg",
        "outputId": "db035438-57bc-4324-b76a-bdbc2fb15ad3"
      },
      "execution_count": 1,
      "outputs": [
        {
          "output_type": "stream",
          "name": "stdout",
          "text": [
            "11\n"
          ]
        }
      ]
    },
    {
      "cell_type": "code",
      "source": [
        "str1 = input(\"Enter the string to get the length of it: \")\n",
        "def string_length(str1):\n",
        "  count = 0\n",
        "  for char in str1:\n",
        "    count += 1\n",
        "\n",
        "  return count\n",
        "\n",
        "print(string_length(str1))"
      ],
      "metadata": {
        "colab": {
          "base_uri": "https://localhost:8080/"
        },
        "id": "pkGjoVd646kA",
        "outputId": "9c36edbc-9692-4def-df4f-3b64f9a1dacc"
      },
      "execution_count": 5,
      "outputs": [
        {
          "output_type": "stream",
          "name": "stdout",
          "text": [
            "Enter the string to get the length of it: Bharat Gaur\n",
            "11\n"
          ]
        }
      ]
    },
    {
      "cell_type": "markdown",
      "source": [
        "# **2. Write a Python program to count the number of characters (character frequency) in a string.**\n",
        "Sample String : google.com'\n",
        "Expected Result : {'g': 2, 'o': 3, 'l': 1, 'e': 1, '.': 1, 'c': 1, 'm': 1}"
      ],
      "metadata": {
        "id": "R3O8dV9B6Htt"
      }
    },
    {
      "cell_type": "code",
      "source": [
        "def char_frequency(str1):\n",
        "  dict = {}\n",
        "\n",
        "  for n in str1:\n",
        "    keys = dict.keys()\n",
        "    if n in keys:\n",
        "      dict[n] += 1\n",
        "\n",
        "    else:\n",
        "      dict[n] = 1\n",
        "\n",
        "  return dict\n",
        "\n",
        "print(char_frequency('google.com'))"
      ],
      "metadata": {
        "colab": {
          "base_uri": "https://localhost:8080/"
        },
        "id": "GOXXFuyi6gU7",
        "outputId": "ec8bca9d-3833-4a54-81c9-f84a50304d04"
      },
      "execution_count": 6,
      "outputs": [
        {
          "output_type": "stream",
          "name": "stdout",
          "text": [
            "{'g': 2, 'o': 3, 'l': 1, 'e': 1, '.': 1, 'c': 1, 'm': 1}\n"
          ]
        }
      ]
    },
    {
      "cell_type": "code",
      "source": [
        "str1 = input(\"Enter the string : \")\n",
        "def char_frequency(str1):\n",
        "  dict = {}\n",
        "  for n in str1:\n",
        "    keys = dict.keys()\n",
        "\n",
        "    if n in keys:\n",
        "      dict[n] += 1\n",
        "\n",
        "    else:\n",
        "      dict[n] = 1\n",
        "\n",
        "  return dict\n",
        "\n",
        "print(char_frequency(str1))\n"
      ],
      "metadata": {
        "colab": {
          "base_uri": "https://localhost:8080/"
        },
        "id": "kwves7zS6gQ5",
        "outputId": "32f19b32-ef63-4fdd-9c9d-a686a8953623"
      },
      "execution_count": 10,
      "outputs": [
        {
          "output_type": "stream",
          "name": "stdout",
          "text": [
            "Enter the string : Bharat Gaur\n",
            "{'B': 1, 'h': 1, 'a': 3, 'r': 2, 't': 1, ' ': 1, 'G': 1, 'u': 1}\n"
          ]
        }
      ]
    },
    {
      "cell_type": "markdown",
      "source": [
        "# **3.**  Write a Python program to get a string made of the first 2 and last 2 characters of a given string. If the string length is less than 2, return the empty string instead.\n",
        "Sample String : 'w3resource'\n",
        "Expected Result : 'w3ce'\n",
        "Sample String : 'w3'\n",
        "Expected Result : 'w3w3'\n",
        "Sample String : ' w'\n",
        "Expected Result : Empty String\n"
      ],
      "metadata": {
        "id": "Ia996U_p6NGV"
      }
    },
    {
      "cell_type": "code",
      "source": [
        "str_input = input(\"Enter your string: \")\n",
        "def string_both_ends(str_input):\n",
        "  if len(str_input) < 2:\n",
        "    return ''\n",
        "\n",
        "  return str_input[0:2] + str_input[-2:]\n",
        "\n",
        "print(string_both_ends(str_input))\n"
      ],
      "metadata": {
        "colab": {
          "base_uri": "https://localhost:8080/"
        },
        "id": "jzyW8yTG6gPi",
        "outputId": "0e23a59f-8e12-49a1-c77e-0b7192b2b510"
      },
      "execution_count": 20,
      "outputs": [
        {
          "output_type": "stream",
          "name": "stdout",
          "text": [
            "Enter your string: ssdll\n",
            "ssll\n"
          ]
        }
      ]
    },
    {
      "cell_type": "code",
      "source": [
        "str_input = input(\"Enter your string: \")\n",
        "if len(str_input) < 2:\n",
        "  print('')\n",
        "\n",
        "else:\n",
        "  print(str_input[0:2] + str_input[-2:])"
      ],
      "metadata": {
        "colab": {
          "base_uri": "https://localhost:8080/"
        },
        "id": "Rp1S-oh-6gDX",
        "outputId": "9c390cd0-2f4c-482c-e6e0-1feeac70375a"
      },
      "execution_count": 24,
      "outputs": [
        {
          "output_type": "stream",
          "name": "stdout",
          "text": [
            "Enter your string: abjhkjhkhkhhyz\n",
            "abyz\n"
          ]
        }
      ]
    },
    {
      "cell_type": "markdown",
      "source": [
        "# **4.** Write a Python program to get a string from a given string where all occurrences of its first char have been changed to \"\"//$//\"\" , except the first char itself.\n",
        "Sample String  \"restart\"\n",
        "Expected Result  \"resta$t\""
      ],
      "metadata": {
        "id": "FJy-lRJm6N5f"
      }
    },
    {
      "cell_type": "code",
      "source": [
        "str1 = input(\"enter the string: \")\n",
        "def change_char(str1):\n",
        "  char = str1[0]\n",
        "  str2 = str1.replace(char, '$')\n",
        "  str3 = char + str2[1:]\n",
        "  return str3\n",
        "\n",
        "print(change_char(str1))\n"
      ],
      "metadata": {
        "colab": {
          "base_uri": "https://localhost:8080/"
        },
        "id": "pmkil8SZ6gB6",
        "outputId": "f3ccf5d9-2e19-4cfe-cebf-35655493a4f7"
      },
      "execution_count": 26,
      "outputs": [
        {
          "output_type": "stream",
          "name": "stdout",
          "text": [
            "enter the string: skdjfjsdkjkjsksjjssss\n",
            "skdjfj$dkjkj$k$jj$$$$\n"
          ]
        }
      ]
    },
    {
      "cell_type": "code",
      "source": [
        "str1 = input(\"enter the string: \")\n",
        "\n",
        "char = str1[0]\n",
        "str2 = str1.replace(char, '$')\n",
        "str3 = char + str2[1:]\n",
        "print(str3)"
      ],
      "metadata": {
        "colab": {
          "base_uri": "https://localhost:8080/"
        },
        "id": "jJW2H-Ti6f4H",
        "outputId": "fcc031ef-db86-4550-a5a6-23c705b314b9"
      },
      "execution_count": 27,
      "outputs": [
        {
          "output_type": "stream",
          "name": "stdout",
          "text": [
            "enter the string: asbjxhkjhjdhsakkjhajhaaaa\n",
            "asbjxhkjhjdhs$kkjh$jh$$$$\n"
          ]
        }
      ]
    },
    {
      "cell_type": "markdown",
      "source": [
        "# **5.** Write a Python program to get a single string from two given strings, separated by a space and swap the first two characters of each string.\n",
        "Sample String : 'abc', 'xyz'\n",
        "Expected Result : 'xyc abz'"
      ],
      "metadata": {
        "id": "dHPzCgnE6N-h"
      }
    },
    {
      "cell_type": "code",
      "source": [
        "\n",
        "def chars_mix_up(a,b):\n",
        "  new_a = b[:2] + a[2:]\n",
        "\n",
        "  new_b = a[:2] + b[2:]\n",
        "  return new_a + ' ' + new_b\n",
        "\n",
        "print(chars_mix_up())\n",
        "\n"
      ],
      "metadata": {
        "colab": {
          "base_uri": "https://localhost:8080/"
        },
        "id": "PH9qF8PF6fpa",
        "outputId": "d479da55-a9b2-43a0-8d08-2ed6659e57bd"
      },
      "execution_count": 30,
      "outputs": [
        {
          "output_type": "stream",
          "name": "stdout",
          "text": [
            "enter two string with comma seprated: 'abc', 'xyz'\n",
            "a'\n"
          ]
        }
      ]
    },
    {
      "cell_type": "code",
      "source": [
        "str1 = input(\"enter first string: \")\n",
        "str2 = input(\"enter second string: \")\n",
        "\n",
        "str3 = str2[0:2] + str1[2:] + ' ' + str1[0:2] + str2[2:]\n",
        "print(str3)\n"
      ],
      "metadata": {
        "colab": {
          "base_uri": "https://localhost:8080/"
        },
        "id": "-FHA7NACUe11",
        "outputId": "46646096-b07c-4813-b486-2286917204af"
      },
      "execution_count": 31,
      "outputs": [
        {
          "output_type": "stream",
          "name": "stdout",
          "text": [
            "enter first string: abc\n",
            "enter second string: xyz\n",
            "xyc abz\n"
          ]
        }
      ]
    },
    {
      "cell_type": "markdown",
      "source": [
        "# **1.**"
      ],
      "metadata": {
        "id": "Wal30Q_q6ODE"
      }
    },
    {
      "cell_type": "markdown",
      "source": [
        "# **1.**"
      ],
      "metadata": {
        "id": "Ohe6Ohow6OGp"
      }
    },
    {
      "cell_type": "markdown",
      "source": [
        "# **1.**"
      ],
      "metadata": {
        "id": "JP62POJL6OJb"
      }
    },
    {
      "cell_type": "markdown",
      "source": [
        "# **1.**"
      ],
      "metadata": {
        "id": "FD72J8ZC6OMo"
      }
    },
    {
      "cell_type": "markdown",
      "source": [
        "# **1.**"
      ],
      "metadata": {
        "id": "eDQCbWu96OQq"
      }
    },
    {
      "cell_type": "markdown",
      "source": [
        "# **1.**"
      ],
      "metadata": {
        "id": "rZ-cJ6mX6OUu"
      }
    },
    {
      "cell_type": "markdown",
      "source": [
        "# **1.**"
      ],
      "metadata": {
        "id": "oKLspvxW6OY3"
      }
    },
    {
      "cell_type": "markdown",
      "source": [
        "# **1.**"
      ],
      "metadata": {
        "id": "UilRWo3J6OcN"
      }
    },
    {
      "cell_type": "markdown",
      "source": [
        "# **1.**"
      ],
      "metadata": {
        "id": "35lFKsHj6OgY"
      }
    },
    {
      "cell_type": "markdown",
      "source": [
        "# **1.**"
      ],
      "metadata": {
        "id": "95Rg2OYM6Ojm"
      }
    },
    {
      "cell_type": "markdown",
      "source": [
        "# **1.**"
      ],
      "metadata": {
        "id": "lnC6-ca56Onn"
      }
    },
    {
      "cell_type": "markdown",
      "source": [
        "# **1.**"
      ],
      "metadata": {
        "id": "d4Jhm-EN6OrO"
      }
    },
    {
      "cell_type": "markdown",
      "source": [
        "# **1.**"
      ],
      "metadata": {
        "id": "S8uXkCMF6Ovi"
      }
    },
    {
      "cell_type": "markdown",
      "source": [
        "# **1.**"
      ],
      "metadata": {
        "id": "BVy7Y24Q6Oy_"
      }
    },
    {
      "cell_type": "markdown",
      "source": [
        "# **1.**"
      ],
      "metadata": {
        "id": "xe_EoC5T6O2p"
      }
    },
    {
      "cell_type": "markdown",
      "source": [
        "# **1.**"
      ],
      "metadata": {
        "id": "lTwl9Faq6O6e"
      }
    },
    {
      "cell_type": "markdown",
      "source": [
        "# **1.**"
      ],
      "metadata": {
        "id": "KDrCTkAn6O9w"
      }
    },
    {
      "cell_type": "markdown",
      "source": [
        "# **1.**"
      ],
      "metadata": {
        "id": "Oxt9azdz6PAX"
      }
    },
    {
      "cell_type": "markdown",
      "source": [
        "# **1.**"
      ],
      "metadata": {
        "id": "MiCZvTMP6PDy"
      }
    },
    {
      "cell_type": "markdown",
      "source": [
        "# **1.**"
      ],
      "metadata": {
        "id": "FGKzmLjp6PHT"
      }
    },
    {
      "cell_type": "markdown",
      "source": [
        "# **1.**"
      ],
      "metadata": {
        "id": "aJFh-Rs_6PKk"
      }
    },
    {
      "cell_type": "markdown",
      "source": [
        "# **1.**"
      ],
      "metadata": {
        "id": "5IrOFAi06PNq"
      }
    },
    {
      "cell_type": "markdown",
      "source": [
        "# **1.**"
      ],
      "metadata": {
        "id": "2gWjApjb6PRd"
      }
    },
    {
      "cell_type": "markdown",
      "source": [
        "# **1.**"
      ],
      "metadata": {
        "id": "7UjgICXd6PU5"
      }
    },
    {
      "cell_type": "markdown",
      "source": [
        "# **1.**"
      ],
      "metadata": {
        "id": "e2rrHJIQ6PYD"
      }
    },
    {
      "cell_type": "markdown",
      "source": [
        "# **1.**"
      ],
      "metadata": {
        "id": "YxYoJafI6PbB"
      }
    },
    {
      "cell_type": "markdown",
      "source": [
        "# **1.**"
      ],
      "metadata": {
        "id": "HcfwFTk76PeJ"
      }
    },
    {
      "cell_type": "markdown",
      "source": [
        "# **1.**"
      ],
      "metadata": {
        "id": "qjZOuewi6Phe"
      }
    },
    {
      "cell_type": "markdown",
      "source": [
        "# **1.**"
      ],
      "metadata": {
        "id": "GNtiXOgX6PlO"
      }
    },
    {
      "cell_type": "markdown",
      "source": [
        "# **1.**"
      ],
      "metadata": {
        "id": "H4xLubsr6PpO"
      }
    },
    {
      "cell_type": "markdown",
      "source": [
        "# **1.**"
      ],
      "metadata": {
        "id": "QkvgtO2j6Psc"
      }
    },
    {
      "cell_type": "markdown",
      "source": [
        "# **1.**"
      ],
      "metadata": {
        "id": "sccXtxMm6Pvk"
      }
    },
    {
      "cell_type": "markdown",
      "source": [
        "# **1.**"
      ],
      "metadata": {
        "id": "oTEjKNNP6PzB"
      }
    },
    {
      "cell_type": "markdown",
      "source": [
        "# **1.**"
      ],
      "metadata": {
        "id": "ou-SFysm6P2w"
      }
    },
    {
      "cell_type": "markdown",
      "source": [
        "# **1.**"
      ],
      "metadata": {
        "id": "jaxUdQH-6P6l"
      }
    },
    {
      "cell_type": "markdown",
      "source": [
        "# **1.**"
      ],
      "metadata": {
        "id": "AYJ0TCx96P-d"
      }
    },
    {
      "cell_type": "markdown",
      "source": [
        "# **1.**"
      ],
      "metadata": {
        "id": "EWiGQuYr6QCy"
      }
    },
    {
      "cell_type": "code",
      "source": [],
      "metadata": {
        "id": "_xN_7J9M5YLb"
      },
      "execution_count": null,
      "outputs": []
    }
  ],
  "metadata": {
    "colab": {
      "provenance": [],
      "authorship_tag": "ABX9TyOfwPHm5b0CVnivPaMIK/vt",
      "include_colab_link": true
    },
    "kernelspec": {
      "display_name": "Python 3",
      "name": "python3"
    },
    "language_info": {
      "name": "python"
    }
  },
  "nbformat": 4,
  "nbformat_minor": 0
}