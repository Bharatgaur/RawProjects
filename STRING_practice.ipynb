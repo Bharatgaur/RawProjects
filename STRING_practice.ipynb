{
  "nbformat": 4,
  "nbformat_minor": 0,
  "metadata": {
    "colab": {
      "provenance": [],
      "authorship_tag": "ABX9TyO9jyJitmp2L8F8yTZsi7lz",
      "include_colab_link": true
    },
    "kernelspec": {
      "name": "python3",
      "display_name": "Python 3"
    },
    "language_info": {
      "name": "python"
    }
  },
  "cells": [
    {
      "cell_type": "markdown",
      "metadata": {
        "id": "view-in-github",
        "colab_type": "text"
      },
      "source": [
        "<a href=\"https://colab.research.google.com/github/Bharatgaur/RawProjects/blob/main/STRING_practice.ipynb\" target=\"_parent\"><img src=\"https://colab.research.google.com/assets/colab-badge.svg\" alt=\"Open In Colab\"/></a>"
      ]
    },
    {
      "cell_type": "code",
      "execution_count": 1,
      "metadata": {
        "colab": {
          "base_uri": "https://localhost:8080/"
        },
        "id": "Sdh60tCVidrv",
        "outputId": "e42cb29e-704b-443c-827f-437a480a2589"
      },
      "outputs": [
        {
          "output_type": "stream",
          "name": "stdout",
          "text": [
            "14\n"
          ]
        }
      ],
      "source": [
        "def string_length(str1):\n",
        "  count = 0\n",
        "\n",
        "  for char in str1:\n",
        "    count += 1\n",
        "  return count\n",
        "\n",
        "print(string_length(\"w3resource.com\"))\n"
      ]
    },
    {
      "cell_type": "code",
      "source": [
        "def string_length(str1):\n",
        "  count = 0\n",
        "  for char in str1:\n",
        "    count += 1\n",
        "  return count\n",
        "print(string_length(\"google.com\"))"
      ],
      "metadata": {
        "colab": {
          "base_uri": "https://localhost:8080/"
        },
        "id": "0OID4TYakXsp",
        "outputId": "277d4e21-f833-44e1-d7df-4de4fcd58dd9"
      },
      "execution_count": 2,
      "outputs": [
        {
          "output_type": "stream",
          "name": "stdout",
          "text": [
            "10\n"
          ]
        }
      ]
    },
    {
      "cell_type": "code",
      "source": [
        "def char_frequency(str2):\n",
        "  dict = {}\n",
        "\n",
        "  for n in str2:\n",
        "    keys = dict.keys()\n",
        "    if n in keys:\n",
        "      dict[n] += 1\n",
        "\n",
        "    else:\n",
        "      dict[n] = 1\n",
        "\n",
        "  return dict\n",
        "\n",
        "print(char_frequency('google.com'))\n",
        "\n",
        "\n"
      ],
      "metadata": {
        "colab": {
          "base_uri": "https://localhost:8080/"
        },
        "id": "q6JVkfPDknRk",
        "outputId": "248d0388-d074-48f7-87b5-d579d12172cb"
      },
      "execution_count": 5,
      "outputs": [
        {
          "output_type": "stream",
          "name": "stdout",
          "text": [
            "{'g': 2, 'o': 3, 'l': 1, 'e': 1, '.': 1, 'c': 1, 'm': 1}\n"
          ]
        }
      ]
    },
    {
      "cell_type": "code",
      "source": [
        "def char_frequency(str2):\n",
        "  dict = {}\n",
        "\n",
        "  for n in str2:\n",
        "    keys = dict.keys()\n",
        "    if n in keys:\n",
        "      dict[n] += 1\n",
        "    else:\n",
        "      dict[n] = 1\n",
        "\n",
        "  return dict\n",
        "\n",
        "print(char_frequency('sdhjfhhdhfiuyerbmnbdfhkuhdf'))"
      ],
      "metadata": {
        "colab": {
          "base_uri": "https://localhost:8080/"
        },
        "id": "wJ3PlZiol4gc",
        "outputId": "78145a68-fdbe-4300-e2ae-91b25a4ffa28"
      },
      "execution_count": 6,
      "outputs": [
        {
          "output_type": "stream",
          "name": "stdout",
          "text": [
            "{'s': 1, 'd': 4, 'h': 6, 'j': 1, 'f': 4, 'i': 1, 'u': 2, 'y': 1, 'e': 1, 'r': 1, 'b': 2, 'm': 1, 'n': 1, 'k': 1}\n"
          ]
        }
      ]
    },
    {
      "cell_type": "code",
      "source": [
        "def string_both_ends(str):\n",
        "  if len(str) < 2:\n",
        "    return ''\n",
        "\n",
        "  return str[:2] + str[-2:]\n",
        "\n",
        "\n",
        "print(string_both_ends('wjj'))"
      ],
      "metadata": {
        "colab": {
          "base_uri": "https://localhost:8080/"
        },
        "id": "J6gXhSEQmpjE",
        "outputId": "2d88cbcd-a246-4076-ad93-d99f326822e3"
      },
      "execution_count": 10,
      "outputs": [
        {
          "output_type": "stream",
          "name": "stdout",
          "text": [
            "wjjj\n"
          ]
        }
      ]
    },
    {
      "cell_type": "code",
      "source": [
        "def string_both_ends(str):\n",
        "  if len(str) < 2:\n",
        "    return ' '\n",
        "\n",
        "  return str[:2] + str[-2:]\n",
        "\n",
        "print(string_both_ends('jsdkhdfh'))"
      ],
      "metadata": {
        "colab": {
          "base_uri": "https://localhost:8080/"
        },
        "id": "qXvh4XsanVlc",
        "outputId": "3fe1832a-95dc-4524-beab-50ca86a5697d"
      },
      "execution_count": 11,
      "outputs": [
        {
          "output_type": "stream",
          "name": "stdout",
          "text": [
            "jsfh\n"
          ]
        }
      ]
    },
    {
      "cell_type": "code",
      "source": [
        "input_string = input(\"Enter your string: \")\n",
        "replace_char = '$'\n",
        "first_char = input_string[0]\n",
        "str2 = input_string[1:]\n",
        "replace_all_char = str2.replace(first_char,replace_char)\n",
        "str3 = first_char + replace_all_char\n",
        "print(str3)"
      ],
      "metadata": {
        "colab": {
          "base_uri": "https://localhost:8080/"
        },
        "id": "rPCME4z5n23a",
        "outputId": "bde7f158-6532-484d-f817-a3570a8582fe"
      },
      "execution_count": 18,
      "outputs": [
        {
          "output_type": "stream",
          "name": "stdout",
          "text": [
            "Enter your string: sssssssssjjjj\n",
            "s$$$$$$$$jjjj\n"
          ]
        }
      ]
    },
    {
      "cell_type": "code",
      "source": [
        "def change_char(str1):\n",
        "  char = str1[0]\n",
        "  str1 = str1.replace(char,'$')\n",
        "  str1 = char + str1[1:]\n",
        "  return str1\n",
        "\n",
        "print(change_char('restart'))"
      ],
      "metadata": {
        "colab": {
          "base_uri": "https://localhost:8080/"
        },
        "id": "ry2hvBwPo7Om",
        "outputId": "a35cbd75-7f6c-4fe6-eb39-3be2a242115a"
      },
      "execution_count": 20,
      "outputs": [
        {
          "output_type": "stream",
          "name": "stdout",
          "text": [
            "resta$t\n"
          ]
        }
      ]
    },
    {
      "cell_type": "code",
      "source": [
        "def change_char(str1):\n",
        "  char = str1[0]\n",
        "  str1 = str1.replace(char,'$')\n",
        "  str1 = char + str1[1:]\n",
        "  return str1\n",
        "\n",
        "print(change_char(\"skjdhfkdshhfhhsjdssdjlsjdljlsdjssdjjfldsfds\"))"
      ],
      "metadata": {
        "colab": {
          "base_uri": "https://localhost:8080/"
        },
        "id": "XBKqYqmprX5w",
        "outputId": "9c931457-b741-4277-b263-d13b5cce2cbe"
      },
      "execution_count": 21,
      "outputs": [
        {
          "output_type": "stream",
          "name": "stdout",
          "text": [
            "skjdhfkd$hhfhh$jd$$djl$jdljl$dj$$djjfld$fd$\n"
          ]
        }
      ]
    },
    {
      "cell_type": "code",
      "source": [
        "str1 = input(\"enter first string: \")\n",
        "str2 = input(\"enter second string: \")\n",
        "str1_new = str2[:2] + str1[2:]\n",
        "str2_new = str1[:2] + str2[2:]\n",
        "str3 = str1_new + \" \" + str2_new\n",
        "print(str3)"
      ],
      "metadata": {
        "colab": {
          "base_uri": "https://localhost:8080/"
        },
        "id": "dXRbdKvmr0e2",
        "outputId": "9be8e754-7c9f-4c0d-f0cd-b9c4260e629c"
      },
      "execution_count": 23,
      "outputs": [
        {
          "output_type": "stream",
          "name": "stdout",
          "text": [
            "enter first string: abc\n",
            "enter second string: xyz\n",
            "xyc abz\n"
          ]
        }
      ]
    },
    {
      "cell_type": "code",
      "source": [
        "def char_mix_up(a,b):\n",
        "  new_a = b[:2] + a[2:]\n",
        "  new_b = a[:2] + b[2:]\n",
        "  return new_a + ' ' + new_b\n",
        "\n",
        "print(char_mix_up('abc', 'xyz'))"
      ],
      "metadata": {
        "colab": {
          "base_uri": "https://localhost:8080/"
        },
        "id": "OfWi0GD3sqBZ",
        "outputId": "ce2d042f-bf54-4cd2-8728-d42b96f69a2c"
      },
      "execution_count": 24,
      "outputs": [
        {
          "output_type": "stream",
          "name": "stdout",
          "text": [
            "xyc abz\n"
          ]
        }
      ]
    },
    {
      "cell_type": "code",
      "source": [],
      "metadata": {
        "id": "JyshPDMjtYa6"
      },
      "execution_count": null,
      "outputs": []
    }
  ]
}