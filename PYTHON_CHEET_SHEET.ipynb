{
  "cells": [
    {
      "cell_type": "markdown",
      "metadata": {
        "id": "view-in-github",
        "colab_type": "text"
      },
      "source": [
        "<a href=\"https://colab.research.google.com/github/Bharatgaur/RawProjects/blob/main/PYTHON_CHEET_SHEET.ipynb\" target=\"_parent\"><img src=\"https://colab.research.google.com/assets/colab-badge.svg\" alt=\"Open In Colab\"/></a>"
      ]
    },
    {
      "cell_type": "code",
      "source": [
        "## 1. A Man Needs a Name!\n",
        "import pandas as pd\n",
        "\n",
        "# Taking input for the list\n",
        "elements = list(input().strip())\n",
        "\n",
        "# Creating a Pandas Series from the list\n",
        "series = pd.Series(elements)\n",
        "\n",
        "# Taking input for the name of the Series\n",
        "series_name = input().strip()\n",
        "series.name = series_name\n",
        "\n",
        "# Taking inputs for n and pos\n",
        "n, pos = map(int, input().strip().split())\n",
        "\n",
        "# Extracting the required rows based on pos\n",
        "if pos == 1:\n",
        "  output = series.head(n)\n",
        "else:\n",
        "  output = series.tail(n)\n",
        "\n",
        "# Printing the output\n",
        "print(output)"
      ],
      "metadata": {
        "id": "I9c0XATMLM0e",
        "colab": {
          "base_uri": "https://localhost:8080/"
        },
        "outputId": "7ef51328-caa0-4787-a393-1be51b3ddaa7"
      },
      "execution_count": 2,
      "outputs": [
        {
          "output_type": "stream",
          "name": "stdout",
          "text": [
            "abcdefghijklmnopqrstuvwxyz\n",
            "alphabets\n",
            "3 1\n",
            "0    a\n",
            "1    b\n",
            "2    c\n",
            "Name: alphabets, dtype: object\n"
          ]
        }
      ]
    },
    {
      "cell_type": "code",
      "source": [
        "# 2. English Maths\n",
        "def string_multiply(A=None, B=None):\n",
        "    # Check if inputs are not provided (handles direct invocation without parameters)\n",
        "    if A is None or B is None:\n",
        "      # Read inputs\n",
        "      A = input().strip()\n",
        "      B = input().strip()\n",
        "\n",
        "    # Convert the string inputs to integers\n",
        "    num1 = int(A)\n",
        "    num2 = int(B)\n",
        "\n",
        "    # Multiply the integers\n",
        "    result = num1 * num2\n",
        "\n",
        "    # Return the result as a string\n",
        "    return str(result)\n",
        "\n",
        "if __name__ == '__main__':\n",
        "  # Read inputs from the user\n",
        "  A = input().strip()\n",
        "  B = input().strip()\n",
        "\n",
        "  # Call the function and print the result\n",
        "  print(string_multiply(A, B))"
      ],
      "metadata": {
        "id": "DQ2cdoMhUYZL",
        "colab": {
          "base_uri": "https://localhost:8080/"
        },
        "outputId": "c04450c4-b3f7-4470-c125-8e39330ccf1e"
      },
      "execution_count": 5,
      "outputs": [
        {
          "output_type": "stream",
          "name": "stdout",
          "text": [
            "5\n",
            "5\n",
            "25\n"
          ]
        }
      ]
    },
    {
      "cell_type": "code",
      "source": [
        "# 3. Biggest One\n",
        "# Read the number of integers\n",
        "a = int(input())\n",
        "\n",
        "# Initialize an empty list to store the integers\n",
        "numbers = []\n",
        "\n",
        "# Read N integers and append them to the list\n",
        "for _ in range(a):\n",
        "  num = int(input())\n",
        "  numbers.append(num)\n",
        "\n",
        "# Find the largest integer in the list\n",
        "largest_number = max(numbers)\n",
        "\n",
        "# Print the largest integer\n",
        "print(largest_number)"
      ],
      "metadata": {
        "id": "sA9d_6zUVkWE",
        "colab": {
          "base_uri": "https://localhost:8080/"
        },
        "outputId": "d78e1c13-f5ec-4cde-d4ed-d992c24ee676"
      },
      "execution_count": 6,
      "outputs": [
        {
          "output_type": "stream",
          "name": "stdout",
          "text": [
            "5\n",
            "4\n",
            "7\n",
            "1\n",
            "0\n",
            "6\n",
            "7\n"
          ]
        }
      ]
    },
    {
      "cell_type": "code",
      "source": [
        "# 4. Simple String\n",
        "def get_simple_string(text_string, noob_string):\n",
        "    # Use a stack to efficiently remove the substring occurrences\n",
        "    stack = []\n",
        "    noob_length = len(noob_string)\n",
        "\n",
        "\n",
        "    for char in text_string:\n",
        "        stack.append(char)\n",
        "        # Check if the top of the stack matches the noob_string\n",
        "        if len(stack) >= noob_length and ''.join(stack[-noob_length:]) == noob_string:\n",
        "            # Remove the last noob_length characters\n",
        "            for _ in range(noob_length):\n",
        "                stack.pop()\n",
        "\n",
        "\n",
        "    # Join the stack to form the resultant string\n",
        "    return ''.join(stack)\n",
        "\n",
        "\n",
        "if __name__ == '__main__':\n",
        "  text_string = \"daabcbaabcbc\"\n",
        "  noob_string = \"abc\"\n",
        "  print(get_simple_string(text_string, noob_string))\n"
      ],
      "metadata": {
        "id": "1ouLL26LUYVt",
        "colab": {
          "base_uri": "https://localhost:8080/"
        },
        "outputId": "3d7bf179-0d3d-471a-cf4d-40161cf814fa"
      },
      "execution_count": 7,
      "outputs": [
        {
          "output_type": "stream",
          "name": "stdout",
          "text": [
            "dab\n"
          ]
        }
      ]
    },
    {
      "cell_type": "code",
      "source": [
        "# 5. Optimal Order Quantity\n",
        "import math\n",
        "\n",
        "# Step 1: Input Handling\n",
        "input_data = input(\"Enter annual demand quantities (D) separated by commas: \") # Dont write input instructions\n",
        "demand_values = list(map(int, input_data.split(\",\")))\n",
        "\n",
        "# Step 2: Set Constants\n",
        "C = 50\n",
        "H = 30\n",
        "\n",
        "# Step 3: Compute Optimal Order Quantities\n",
        "order_quantities = [round(math.sqrt((2 * C * D) / H)) for D in demand_values]\n",
        "\n",
        "# Step 4: Round the Values\n",
        "rounded_quantities = [round(Q) for Q in order_quantities]\n",
        "\n",
        "# Step 5: Format and Output Results\n",
        "output = \",\".join(map(str, rounded_quantities))\n",
        "print(output)\n",
        "\n",
        "\n",
        "# Sample Input:\n",
        "# 100,150,180\n",
        "# Sample Output:\n",
        "# 18,22,24"
      ],
      "metadata": {
        "id": "KYqAcIs5UYTV",
        "colab": {
          "base_uri": "https://localhost:8080/"
        },
        "outputId": "d335538b-a63a-437c-8b47-32cc9ca6269a"
      },
      "execution_count": 9,
      "outputs": [
        {
          "output_type": "stream",
          "name": "stdout",
          "text": [
            "Enter annual demand quantities (D) separated by commas: 100,150,180\n",
            "18,22,24\n"
          ]
        }
      ]
    },
    {
      "cell_type": "code",
      "source": [
        "# 6. Encrypt String\n",
        "import math\n",
        "\n",
        "def encrypt_string(input_string):\n",
        "    # Step 1: Remove all spaces from the input string\n",
        "    cleaned_string = input_string.replace(\" \", \"\")\n",
        "\n",
        "    # Step 2: Calculate the length of the cleaned string\n",
        "    length = len(cleaned_string)\n",
        "\n",
        "    # Step 3: Calculate the dimensions of the grid\n",
        "    sqrt_length = math.sqrt(length)\n",
        "    width = math.ceil(sqrt_length)   # Ceil value\n",
        "    height = math.floor(sqrt_length) # Floor value\n",
        "\n",
        "    # Adjust height if the grid area is less than the string length\n",
        "    if width * height < length:\n",
        "        height += 1\n",
        "\n",
        "    # Step 4: Create the grid\n",
        "    grid = []\n",
        "    for i in range(0, length, width):\n",
        "        grid.append(cleaned_string[i:i+width])\n",
        "\n",
        "    # Step 5: Generate the encrypted string by reading column-wise\n",
        "    encrypted_words = []\n",
        "    for col in range(width):\n",
        "        encrypted_word = ''.join(row[col] for row in grid if col < len(row))\n",
        "        encrypted_words.append(encrypted_word)\n",
        "\n",
        "    # Join the words with a single space and return the result\n",
        "    return ' '.join(encrypted_words)\n",
        "\n",
        "# Example usage:\n",
        "if __name__ == '__main__':\n",
        "    input_string = input(\"Enter the string: \")\n",
        "    result = encrypt_string(input_string)\n",
        "    print(result)\n",
        "\n",
        "# Sample Input 1:\n",
        "# thatisswingback\n",
        "# Sample Output 1:\n",
        "# tiia hsnc asgk twb\n",
        "# Sample Input 2:\n",
        "# The world is full of wonders\n",
        "# Sample Output 2:\n",
        "# Trffe hluwr edlos wiln osod\n"
      ],
      "metadata": {
        "id": "ZIKjJYGjUYQS",
        "colab": {
          "base_uri": "https://localhost:8080/"
        },
        "outputId": "264a4e0e-5650-4712-cffa-1747fce7eb3b"
      },
      "execution_count": 11,
      "outputs": [
        {
          "output_type": "stream",
          "name": "stdout",
          "text": [
            "Enter the string: thatisswingback\n",
            "tiia hsnc asgk twb\n"
          ]
        }
      ]
    },
    {
      "cell_type": "code",
      "source": [
        "# 7. Palindromes Again!\n",
        "def is_plain_anagram(s):\n",
        "    # Count the frequency of each character in the string\n",
        "    char_count = {}\n",
        "    for char in s:\n",
        "        char_count[char] = char_count.get(char, 0) + 1\n",
        "\n",
        "    # A string can form a palindromic anagram if at most one character has an odd frequency\n",
        "    odd_count = 0\n",
        "    for count in char_count.values():\n",
        "        if count % 2 != 0:\n",
        "            odd_count += 1\n",
        "\n",
        "    # If there's more than one character with an odd frequency, it's not possible\n",
        "    return \"True\" if odd_count <= 1 else \"False\"\n",
        "\n",
        "if __name__ == '__main__':\n",
        "  print(is_plain_anagram(\"carrace\"))\n",
        "  print(is_plain_anagram(\"idjhfjdh\"))\n",
        "\n",
        "\n",
        "# Sample Input 1:\n",
        "# carrace\n",
        "# Sample Output 1:\n",
        "# True\n",
        "# Explanation:\n",
        "# \"carrace\" will return True, since it can be rearranged to form \"racecar\", which is a palindrome.\n",
        "# Sample Input 2:\n",
        "# idjhfjdh\n",
        "# Sample Output 2:\n",
        "# False"
      ],
      "metadata": {
        "id": "b7BjrSEmUYJL",
        "colab": {
          "base_uri": "https://localhost:8080/"
        },
        "outputId": "93614669-471f-4b5b-d33f-f27be6648b26"
      },
      "execution_count": 13,
      "outputs": [
        {
          "output_type": "stream",
          "name": "stdout",
          "text": [
            "True\n",
            "False\n"
          ]
        }
      ]
    },
    {
      "cell_type": "code",
      "source": [
        "# 8. Validate Input String\n",
        "def validate(s):\n",
        "    # Step 1: Check for spaces in the string\n",
        "    if '  ' in s:\n",
        "      return \"NO\"\n",
        "\n",
        "    # Step 2: Check if the first and last characters are uppercase letters\n",
        "    if not (s[0].isupper() and s[-1].isupper()):\n",
        "      return \"NO\"\n",
        "\n",
        "    # Step 3: Check for at least two adjacent numeric characters\n",
        "    numeric_char = any(s[i].isdigit() and s[i + 1].isdigit() for i in range(len(s) - 1))\n",
        "    if not numeric_char:\n",
        "      return \"NO\"\n",
        "    return \"YES\"\n",
        "\n",
        "\n",
        "if __name__ == '__main__':\n",
        "    # You can test the function here if needed\n",
        "    print(validate(\"TX893Y\"))\n",
        "    print(validate(\"TX8r9t3Y\"))\n",
        "\n",
        "# Sample Input 1:\n",
        "# Copy code\n",
        "# TX893Y\n",
        "# Sample Output 1:\n",
        "# YES\n",
        "\n",
        "# Sample Input 2:\n",
        "# TX8r9t3Y\n",
        "# Sample Output 2:\n",
        "# NO"
      ],
      "metadata": {
        "id": "4b4q7f3eLM-Y",
        "colab": {
          "base_uri": "https://localhost:8080/"
        },
        "outputId": "5243415d-4d7e-434b-ef0f-07e67e5bd132"
      },
      "execution_count": 14,
      "outputs": [
        {
          "output_type": "stream",
          "name": "stdout",
          "text": [
            "YES\n",
            "NO\n"
          ]
        }
      ]
    },
    {
      "cell_type": "code",
      "source": [
        "# 9. Substring Palindrome\n",
        "# Read the variable from STDIN\n",
        "S = input()\n",
        "\n",
        "# Function to find the length of the longest palindromic substring\n",
        "def longest_palindromic_substring_length(S):\n",
        "    n = len(S)\n",
        "    if n == 0:\n",
        "        return 0\n",
        "\n",
        "\n",
        "    # Create a table to store whether a substring is a palindrome\n",
        "    dp = [[False] * n for _ in range(n)]\n",
        "    max_length = 1\n",
        "\n",
        "\n",
        "    # Every single character is a palindrome\n",
        "    for i in range(n):\n",
        "        dp[i][i] = True\n",
        "\n",
        "\n",
        "    # Check for two-character palindromes\n",
        "    for i in range(n - 1):\n",
        "        if S[i] == S[i + 1]:\n",
        "            dp[i][i + 1] = True\n",
        "            max_length = 2\n",
        "\n",
        "\n",
        "    # Check for palindromes longer than two characters\n",
        "    for length in range(3, n + 1):  # length of the substring\n",
        "        for i in range(n - length + 1):  # starting index\n",
        "            j = i + length - 1  # ending index\n",
        "            if S[i] == S[j] and dp[i + 1][j - 1]:\n",
        "                dp[i][j] = True\n",
        "                max_length = length\n",
        "    return max_length\n",
        "\n",
        "# Output the length of the longest palindromic substring\n",
        "print(longest_palindromic_substring_length(S))\n",
        "\n",
        "# Sample Input 1\n",
        "# abba\n",
        "# Sample Output 1\n",
        "# 4\n",
        "# Explanation 1\n",
        "# The longest palindromic substring is \"abba\", with a length of 4.\n",
        "\n",
        "# Sample Input 2\n",
        "# aca\n",
        "# Sample Output 2\n",
        "# 3\n",
        "# Explanation 2\n",
        "# The entire string \"aca\" is a palindrome."
      ],
      "metadata": {
        "id": "AK8k5A40StDc",
        "colab": {
          "base_uri": "https://localhost:8080/"
        },
        "outputId": "6f1a7641-9242-4aee-d4df-6ff98796f46f"
      },
      "execution_count": 15,
      "outputs": [
        {
          "output_type": "stream",
          "name": "stdout",
          "text": [
            "abba\n",
            "4\n"
          ]
        }
      ]
    },
    {
      "cell_type": "code",
      "source": [
        "# 10. Smallest String\n",
        "def smallestString(t):\n",
        "    m = len(t)\n",
        "    lexicographically_smallest = t  # Start with the original string as the smallest\n",
        "    best_x = 1  # Initialize the best value of x\n",
        "\n",
        "\n",
        "    for x in range(1, m + 1):\n",
        "        # Calculate the value of k for this x\n",
        "        k = m - x + 1\n",
        "\n",
        "\n",
        "        # Create the transformed string by reversing all substrings of length k\n",
        "        current_string = t\n",
        "        for j in range(1, k + 1):\n",
        "            # Reverse the substring t[j:j+k]\n",
        "            start = j - 1\n",
        "            end = j + k - 1\n",
        "            current_string = current_string[:start] + current_string[start:end][::-1] + current_string[end:]\n",
        "\n",
        "\n",
        "        # Check if the transformed string is the smallest lexicographically\n",
        "        if current_string < lexicographically_smallest:\n",
        "            lexicographically_smallest = current_string\n",
        "            best_x = x\n",
        "\n",
        "\n",
        "    return best_x\n",
        "\n",
        "\n",
        "# Example input\n",
        "t = \"dede\"\n",
        "\n",
        "# Call the function\n",
        "result = smallestString(t)\n",
        "print(result)  # Output: 1"
      ],
      "metadata": {
        "id": "HKWCXiB6StGd",
        "colab": {
          "base_uri": "https://localhost:8080/"
        },
        "outputId": "596e8a52-d2cd-4b04-b4d7-c05e7bf248c5"
      },
      "execution_count": 17,
      "outputs": [
        {
          "output_type": "stream",
          "name": "stdout",
          "text": [
            "1\n"
          ]
        }
      ]
    },
    {
      "cell_type": "code",
      "source": [
        "# 11. Child's Name\n",
        "def childName(mother, father, C):\n",
        "    # Initialize two pointers to iterate through the mother and father names\n",
        "    i, j = 0, 0\n",
        "    # Loop through the string C\n",
        "    for char in C:\n",
        "        # Check if the character matches the current character in mother's name\n",
        "        if i < len(mother) and char == mother[i]:\n",
        "            i += 1\n",
        "        # Check if the character matches the current character in father's name\n",
        "        elif j < len(father) and char == father[j]:\n",
        "            j += 1\n",
        "        else:\n",
        "            return \"NO\"\n",
        "\n",
        "    # If both pointers have traversed the entire mother's and father's names\n",
        "    if i == len(mother) and j == len(father):\n",
        "        return \"YES\"\n",
        "    return \"NO\"\n",
        "\n",
        "# Sample Input\n",
        "mother = \"tisha\"\n",
        "father = \"monish\"\n",
        "C = \"tmonisishha\"\n",
        "\n",
        "# Function call\n",
        "print(childName(mother, father, C))  # Output: YES"
      ],
      "metadata": {
        "id": "ZXnYmbXJStIp",
        "colab": {
          "base_uri": "https://localhost:8080/"
        },
        "outputId": "824abef1-28c5-488d-b351-b32e63c3261f"
      },
      "execution_count": 19,
      "outputs": [
        {
          "output_type": "stream",
          "name": "stdout",
          "text": [
            "YES\n"
          ]
        }
      ]
    },
    {
      "cell_type": "code",
      "source": [
        "# 12. Conversion\n",
        "import numpy as np\n",
        "import pandas as pd\n",
        "\n",
        "# Input Parameters\n",
        "m, n = map(int, input().split())  # Read the number of rows (m) and columns (n)\n",
        "input_list = list(map(int, input().split()))  # Read the input list of integers\n",
        "\n",
        "if m * n == len(input_list):\n",
        "    # Convert the input list into a pandas Series\n",
        "    series = pd.Series(input_list)\n",
        "\n",
        "    # Reshape the series into a DataFrame of shape (m, n)\n",
        "    df = series.values.reshape(m, n)\n",
        "\n",
        "    # Convert the reshaped array into a pandas DataFrame and print it\n",
        "    print(pd.DataFrame(df))\n",
        "else:\n",
        "    print(\"Weird Order!\")\n",
        "\n",
        "# Sample Input 1\n",
        "# 2 3\n",
        "# 1 2 3 4 5 6 7 8\n",
        "# Sample Output 1\n",
        "# Weird Order!\n",
        "# Explanation 1\n",
        "# Since the product of m×nm \\times nm×n (2 × 3 = 6) is NOT EQUAL to the length of the input list (8), the output is \"Weird Order!\".\n",
        "\n",
        "# Sample Input 2\n",
        "# 2 4\n",
        "# 1 2 3 4 5 6 7 8\n",
        "# Sample Output 2\n",
        "#   0  1  2  3\n",
        "# 0  1  2  3  4\n",
        "# 1  5  6  7  8"
      ],
      "metadata": {
        "id": "1yV_WnpcStK6",
        "colab": {
          "base_uri": "https://localhost:8080/"
        },
        "outputId": "76b29ad0-d5ee-49d5-a8c0-b9f7bca0c990"
      },
      "execution_count": 21,
      "outputs": [
        {
          "output_type": "stream",
          "name": "stdout",
          "text": [
            "2 4\n",
            "1 2 3 4 5 6 7 8\n",
            "   0  1  2  3\n",
            "0  1  2  3  4\n",
            "1  5  6  7  8\n"
          ]
        }
      ]
    },
    {
      "cell_type": "code",
      "source": [
        "# 13.  Total Saving of Year\n",
        "from datetime import datetime\n",
        "\n",
        "def solve(date):\n",
        "    # Convert the input date string to a datetime object\n",
        "    given_date = datetime.strptime(date, \"%Y/%m/%d\")\n",
        "\n",
        "    # Create a datetime object for the beginning of the year\n",
        "    start_of_year = datetime(given_date.year, 1, 1)\n",
        "\n",
        "    # Calculate the number of days between the start of the year and the given date\n",
        "    days_saved = (given_date - start_of_year).days + 1\n",
        "\n",
        "    # Gaffur saves Rs.10 each day, so total savings is:\n",
        "    total_savings = days_saved * 10\n",
        "\n",
        "    return total_savings\n",
        "\n",
        "\n",
        "# Example usage\n",
        "date = \"2019/02/10\"\n",
        "print(solve(date))  # Output should be 410)"
      ],
      "metadata": {
        "id": "MmfPlQcHStNG",
        "colab": {
          "base_uri": "https://localhost:8080/"
        },
        "outputId": "f1f32181-a133-4271-965f-29ff67bf4968"
      },
      "execution_count": 23,
      "outputs": [
        {
          "output_type": "stream",
          "name": "stdout",
          "text": [
            "410\n"
          ]
        }
      ]
    },
    {
      "cell_type": "code",
      "source": [
        "# 14. Numbered List/That's the pretty Uncommon\n",
        "# Function to check constraints and generate a list\n",
        "def generate_list(start, end):\n",
        "    if start < 1 or end > 100:  # Check if the range is valid\n",
        "        return \"Out of Range\"\n",
        "    elif (end - start + 1) != 10:  # Check if the difference is exactly 10\n",
        "        return \"Difference Not in Range\"\n",
        "    else:  # Generate and return the list of 10 numbers\n",
        "        return list(range(start, end + 1))\n",
        "\n",
        "# Main function to take input and process test cases\n",
        "def main():\n",
        "    T = int(input(\"Enter the number of test cases: \"))  # Number of test cases Dont write\n",
        "    for _ in range(T):\n",
        "        start, end = map(int, input(\"Enter start and end point: \").split())  # Input start and end dont write\n",
        "        result = generate_list(start, end)  # Check conditions and get the result\n",
        "        print(result)  # Print the result\n",
        "\n",
        "# Run the main function\n",
        "if __name__ == \"__main__\":\n",
        "    main()\n",
        "\n",
        "\n",
        "# Sample Input\n",
        "# 3\n",
        "# 19 31\n",
        "# 22 31\n",
        "# 90 103\n",
        "\n",
        "# Sample Output\n",
        "# Difference Not in Range\n",
        "# [22, 23, 24, 25, 26, 27, 28, 29, 30, 31]\n",
        "# Out of Range"
      ],
      "metadata": {
        "id": "YpwZxusYStPh",
        "colab": {
          "base_uri": "https://localhost:8080/"
        },
        "outputId": "f5ae0cb2-4dc1-46a7-9c56-1f28d0e25fd3"
      },
      "execution_count": 24,
      "outputs": [
        {
          "output_type": "stream",
          "name": "stdout",
          "text": [
            "Enter the number of test cases: 3\n",
            "Enter start and end point: 19 31\n",
            "Difference Not in Range\n",
            "Enter start and end point: 22 31\n",
            "[22, 23, 24, 25, 26, 27, 28, 29, 30, 31]\n",
            "Enter start and end point: 70 103\n",
            "Out of Range\n"
          ]
        }
      ]
    },
    {
      "cell_type": "code",
      "source": [
        "# 15. String Substring Program\n",
        "# Function to find the substring with wildcard\n",
        "def find_substring_with_wildcard(first_string, second_string):\n",
        "    # Replace wildcard '*' with '.*' for regex compatibility\n",
        "    import re\n",
        "    second_string = second_string.replace(\"*\", \".*\")\n",
        "\n",
        "    # Check if there's a match in the first string using regex\n",
        "    match = re.search(second_string, first_string)\n",
        "\n",
        "    if match:\n",
        "        return first_string[match.start():]  # Return the substring starting from the match\n",
        "    else:\n",
        "        return \"no matches found\"  # Return if no match is found\n",
        "\n",
        "\n",
        "# Read inputs\n",
        "first_string = input().strip()\n",
        "second_string = input().strip()\n",
        "\n",
        "\n",
        "# Find and print the result\n",
        "result = find_substring_with_wildcard(first_string, second_string)\n",
        "print(result)\n",
        "\n",
        "# Sample Input 1\n",
        "# Bombay\n",
        "# om*\n",
        "# Sample Output 1\n",
        "# ombay\n",
        "\n",
        "# Sample Input 2\n",
        "# Calcutta\n",
        "# da*\n",
        "# Sample Output 2\n",
        "# no matches found"
      ],
      "metadata": {
        "id": "9jA1gDA-StR2",
        "colab": {
          "base_uri": "https://localhost:8080/"
        },
        "outputId": "99a76ae0-638b-40f3-a66c-dd51f41a170a"
      },
      "execution_count": 25,
      "outputs": [
        {
          "output_type": "stream",
          "name": "stdout",
          "text": [
            "Bombay\n",
            "om*\n",
            "ombay\n"
          ]
        }
      ]
    },
    {
      "cell_type": "code",
      "source": [
        "# 16. Not Present\n",
        "import pandas as pd\n",
        "\n",
        "# Read the first line input as list1 and convert it to a list of integers\n",
        "list1 = list(map(int, input().split()))\n",
        "\n",
        "# Read the second line input as list2 and convert it to a list of integers\n",
        "list2 = list(map(int, input().split()))\n",
        "\n",
        "# Create pandas Series from the lists\n",
        "series1 = pd.Series(list1)\n",
        "series2 = pd.Series(list2)\n",
        "\n",
        "# Remove items from series1 that are present in series2\n",
        "result_series = series1[~series1.isin(series2)]\n",
        "\n",
        "# Print the result in the required format\n",
        "for index, value in result_series.items():\n",
        "    print(f\"{value} {index}\")\n",
        "\n",
        "# Print the dtype of the result series\n",
        "print(f\"dtype: {result_series.dtype}\")\n",
        "\n",
        "# Sample Input\n",
        "# 4 5 2 3 4 1\n",
        "# 4 5 6 7 8\n",
        "\n",
        "# Sample Output\n",
        "# 2 2\n",
        "# 3 3\n",
        "# 1 5\n",
        "# dtype: object"
      ],
      "metadata": {
        "id": "lW1uchDPStUV",
        "colab": {
          "base_uri": "https://localhost:8080/"
        },
        "outputId": "29d00b50-f06b-4156-f21e-a30aa4e53631"
      },
      "execution_count": 26,
      "outputs": [
        {
          "output_type": "stream",
          "name": "stdout",
          "text": [
            "4 5 2 3 4 1\n",
            "4 5 6 7 8\n",
            "2 2\n",
            "3 3\n",
            "1 5\n",
            "dtype: int64\n"
          ]
        }
      ]
    },
    {
      "cell_type": "code",
      "source": [
        "# 17. Palindromic Name\n",
        "def palindromicString(father, mother):\n",
        "    # Try every possible substring of the father and mother names\n",
        "    for i in range(len(father)):\n",
        "        for j in range(i + 1, len(father) + 1):\n",
        "            father_substring = father[i:j]\n",
        "            for k in range(len(mother)):\n",
        "                for l in range(k + 1, len(mother) + 1):\n",
        "                    mother_substring = mother[k:l]\n",
        "                    # Concatenate substrings and check if it's a palindrome\n",
        "                    combined = father_substring + mother_substring\n",
        "                    if combined == combined[::-1]:  # Check if the string is a palindrome\n",
        "                        return \"YES\"\n",
        "    return \"NO\"\n",
        "\n",
        "if __name__ == '__main__':\n",
        "    father = \"maria\"\n",
        "    mother = \"mira\"\n",
        "    print(palindromicString(father, mother)) # OutPut YES"
      ],
      "metadata": {
        "id": "Qz79m3EeStWf",
        "colab": {
          "base_uri": "https://localhost:8080/"
        },
        "outputId": "7509e0e6-cdda-4745-d3d5-2238c02c951e"
      },
      "execution_count": 27,
      "outputs": [
        {
          "output_type": "stream",
          "name": "stdout",
          "text": [
            "YES\n"
          ]
        }
      ]
    },
    {
      "cell_type": "code",
      "source": [
        "# 18. Equal Strings\n",
        "def equalNames(names):\n",
        "    # Helper function to calculate the number of rotations needed to match two names\n",
        "    def min_operations_to_match(name1, name2):\n",
        "        # If both names are already the same, no operation is needed\n",
        "        if name1 == name2:\n",
        "            return 0\n",
        "        # Try all possible rotations of name1\n",
        "        for i in range(1, len(name1)):\n",
        "            rotated_name = name1[i:] + name1[:i]\n",
        "            if rotated_name == name2:\n",
        "                return i\n",
        "        return len(name1)  # Return maximum rotations if no match is found\n",
        "\n",
        "\n",
        "    # Initialize the total number of operations as very high\n",
        "    min_ops = float('inf')\n",
        "\n",
        "\n",
        "    # Iterate over all names to compare with the first name\n",
        "    for i in range(1, len(names)):\n",
        "        current_ops = min_operations_to_match(names[0], names[i])\n",
        "        if current_ops == len(names[0]):\n",
        "            return -1  # If it's not possible to match any name, return -1\n",
        "        min_ops = min(min_ops, current_ops)\n",
        "\n",
        "\n",
        "    return min_ops * (len(names) - 1)  # Total operations to make all names equal\n",
        "\n",
        "\n",
        "# Test the function with an example case\n",
        "if __name__ == '__main__':\n",
        "    n = int(input())  # Read the number of names : 2\n",
        "    names = [input().strip() for _ in range(n)]  # Read all the names into a list  input 1: molzv input 2: Izvmo\n",
        "    print(equalNames(names))  # Output the result :> 2"
      ],
      "metadata": {
        "id": "6CgL98elStZF",
        "colab": {
          "base_uri": "https://localhost:8080/"
        },
        "outputId": "336dda7c-0d55-47bb-a8a0-e5505dc32d4e"
      },
      "execution_count": 28,
      "outputs": [
        {
          "output_type": "stream",
          "name": "stdout",
          "text": [
            "2\n",
            "molzv\n",
            "lzvmo\n",
            "2\n"
          ]
        }
      ]
    },
    {
      "cell_type": "code",
      "source": [
        "# 19. Search Character and Substring\n",
        "# Input the number of strings\n",
        "num_strings = int(input(\"Enter the number of strings: \")) # Dont write input string\n",
        "\n",
        "# Initialize a list to store the results\n",
        "results = []\n",
        "\n",
        "# Process each string\n",
        "for _ in range(num_strings):\n",
        "    # Input the string\n",
        "    string = input().strip()\n",
        "\n",
        "    # Find the positions of 'a' and 'is'\n",
        "    pos_a = string.find('a')  # Position of character 'a'\n",
        "    pos_is = string.find('is')  # Position of substring 'is'\n",
        "\n",
        "    # If not found, these will be -1 automatically\n",
        "    # Calculate the sum of positions\n",
        "    result = pos_a + pos_is\n",
        "\n",
        "    # Append the result to the list\n",
        "    results.append(result)\n",
        "\n",
        "# Print the results\n",
        "for res in results:\n",
        "    print(res)\n",
        "\n",
        "# Sample Input:\n",
        "# 3\n",
        "# It is a simple problem\n",
        "# Raspberry is sweet\n",
        "# test\n",
        "# Sample Output:\n",
        "# 9\n",
        "# 11\n",
        "# -2"
      ],
      "metadata": {
        "id": "Wdy6hUwzStbo",
        "colab": {
          "base_uri": "https://localhost:8080/"
        },
        "outputId": "deb92013-e20c-4f3a-b584-4ed6d81dbe42"
      },
      "execution_count": 30,
      "outputs": [
        {
          "output_type": "stream",
          "name": "stdout",
          "text": [
            "Enter the number of strings: 3\n",
            "It is a simple problem\n",
            "Raspberry is sweet\n",
            "test\n",
            "9\n",
            "11\n",
            "-2\n"
          ]
        }
      ]
    },
    {
      "cell_type": "code",
      "source": [
        "# 20. Consulting Firm\n",
        "import pandas as pd\n",
        "\n",
        "def calculate_results():\n",
        "    # Input number of test cases\n",
        "    T = int(input(\"Enter the number of rows: \"))\n",
        "\n",
        "    # Initialize an empty list to store student data\n",
        "    data = []\n",
        "\n",
        "    # Collect the input data for each student\n",
        "    for _ in range(T):\n",
        "        row = input().split()\n",
        "        name = row[0]\n",
        "        age = int(row[1])\n",
        "        marks = int(row[2])\n",
        "        country = row[3]\n",
        "        data.append([name, age, marks, country])\n",
        "\n",
        "    # Create a DataFrame from the input data\n",
        "    df = pd.DataFrame(data, columns=[\"Name\", \"Age\", \"Marks\", \"Country\"])\n",
        "\n",
        "    # Calculate the mean value of marks\n",
        "    mean_marks = df[\"Marks\"].astype(int).mean()\n",
        "\n",
        "    # Add a new column \"Result\" based on the mean value\n",
        "    df[\"Result\"] = df[\"Marks\"].astype(int).apply(lambda x: 0.0 if x > mean_marks else 1.0)\n",
        "\n",
        "    # Print the Result column\n",
        "    for result in df[\"Result\"]:\n",
        "        print(result)\n",
        "\n",
        "# Run the function\n",
        "calculate_results()\n",
        "\n",
        "# Sample Input:\n",
        "# 3\n",
        "# Alex 18 54 Australia\n",
        "# Bob 15 64 China\n",
        "# Clarke 16 70 Mexico\n",
        "# Sample Output:\n",
        "# 1.0\n",
        "# 0.0\n",
        "# 0.0"
      ],
      "metadata": {
        "id": "MKNtPA-GxXz-",
        "colab": {
          "base_uri": "https://localhost:8080/"
        },
        "outputId": "ce1c7542-21fe-4091-831d-35f7e790ae49"
      },
      "execution_count": 31,
      "outputs": [
        {
          "output_type": "stream",
          "name": "stdout",
          "text": [
            "Enter the number of rows: 3\n",
            "Alex 18 54 Australia\n",
            "Bob 15 64 China\n",
            "Clarke 16 70 Mexico\n",
            "1.0\n",
            "0.0\n",
            "0.0\n"
          ]
        }
      ]
    },
    {
      "cell_type": "code",
      "source": [
        "# 21. Difference\n",
        "# Complete the 'solution' function below.\n",
        "# The function is expected to return an INTEGER.\n",
        "# The function accepts the following parameters:\n",
        "# 1. STRING S\n",
        "# 2. STRING T\n",
        "def solution(S, T):\n",
        "    # Count the positions where the characters in S and T differ\n",
        "    return sum(1 for s, t in zip(S, T) if s != t)\n",
        "\n",
        "if __name__ == \"__main__\":\n",
        "    # Take input from the user\n",
        "    S = \"doselect\"\n",
        "    T = \"doseeesd\"\n",
        "\n",
        "    # Call the solution function and print the result\n",
        "    print(solution(S, T)) # output : 3"
      ],
      "metadata": {
        "id": "0E58KcWcxXxg",
        "colab": {
          "base_uri": "https://localhost:8080/"
        },
        "outputId": "387ed6db-2c39-47fa-804b-719b238eec56"
      },
      "execution_count": 34,
      "outputs": [
        {
          "output_type": "stream",
          "name": "stdout",
          "text": [
            "3\n"
          ]
        }
      ]
    },
    {
      "cell_type": "code",
      "source": [
        "# 22. Cosmetic Company\n",
        "def numeric_to_alphabetic(barcode):\n",
        "    # Create a mapping of numbers to corresponding letters\n",
        "    mapping = {0: 'a', 1: 'b', 2: 'c', 3: 'd', 4: 'e', 5: 'f', 6: 'g', 7: 'h', 8: 'i', 9: 'j'}\n",
        "\n",
        "    # Convert barcode to string, iterate over each digit, and map it to the corresponding letter\n",
        "    alphabetic_code = ''.join(mapping[int(digit)] for digit in str(barcode))\n",
        "\n",
        "    return alphabetic_code\n",
        "\n",
        "# Input\n",
        "barcode = int(input(\"Enter the barcode: \"))\n",
        "\n",
        "# Output\n",
        "print(numeric_to_alphabetic(barcode))\n",
        "\n",
        "# Sample Input:\n",
        "# 12403\n",
        "# Sample Output:\n",
        "# bcead"
      ],
      "metadata": {
        "id": "Rij9esYRxXu7",
        "colab": {
          "base_uri": "https://localhost:8080/"
        },
        "outputId": "8c73ad8d-f370-4642-fd30-8c331b470e93"
      },
      "execution_count": 35,
      "outputs": [
        {
          "output_type": "stream",
          "name": "stdout",
          "text": [
            "Enter the barcode: 12403\n",
            "bcead\n"
          ]
        }
      ]
    },
    {
      "cell_type": "code",
      "source": [
        "# 23. Second Best\n",
        "# Complete the 'find_second' function below.\n",
        "# The function is expected to return an INTEGER.\n",
        "# The function accepts INTEGER ARRAY arr as parameter.\n",
        "\n",
        "def find_second(arr):\n",
        "    # Remove duplicates and sort the array in descending order\n",
        "    unique_sorted_heights = sorted(set(arr), reverse=True)\n",
        "\n",
        "    # Return the second tallest height\n",
        "    return unique_sorted_heights[1] if len(unique_sorted_heights) > 1 else None\n",
        "\n",
        "if __name__ == \"__main__\":\n",
        "    # Input processing\n",
        "    N = int(input())  # Read the number of elements\n",
        "    arr = [int(input()) for _ in range(N)]  # Read the heights\n",
        "\n",
        "    # Call the function and print the result\n",
        "    print(find_second(arr))\n",
        "\n",
        "# Sample Input:\n",
        "# 6\n",
        "# 142\n",
        "# 321\n",
        "# 78\n",
        "# 32\n",
        "# 112\n",
        "# 98\n",
        "# Sample Output:\n",
        "# 142\n",
        "# Explanation:\n",
        "# In the given array, the second highest height is 142."
      ],
      "metadata": {
        "id": "ECyDoTQnxXX0",
        "colab": {
          "base_uri": "https://localhost:8080/"
        },
        "outputId": "0958d1db-9819-4dc1-fd3d-d85d8d7f7c4a"
      },
      "execution_count": 37,
      "outputs": [
        {
          "output_type": "stream",
          "name": "stdout",
          "text": [
            "6\n",
            "142\n",
            "321\n",
            "78\n",
            "32\n",
            "112\n",
            "98\n",
            "142\n"
          ]
        }
      ]
    },
    {
      "cell_type": "code",
      "source": [
        "# 24. Get the number\n",
        "def get_numbers_until_five():\n",
        "    while True:\n",
        "        try:\n",
        "            # Read input from the user\n",
        "            num = int(input())\n",
        "            if num == 5:\n",
        "                break  # Stop the loop when the number is 5\n",
        "            print(num)  # Print the number if it's not 5\n",
        "        except EOFError:\n",
        "            break  # Exit the loop on end-of-file input\n",
        "\n",
        "# Call the function\n",
        "get_numbers_until_five()\n",
        "\n",
        "# Input 1:\n",
        "# 2\n",
        "# 3\n",
        "# 7\n",
        "# 6\n",
        "# 5\n",
        "# 8\n",
        "# Output 1:\n",
        "# 2\n",
        "# 3\n",
        "# 7\n",
        "# 6"
      ],
      "metadata": {
        "id": "tiRYbpMSxXUO",
        "colab": {
          "base_uri": "https://localhost:8080/"
        },
        "outputId": "325cdfbc-fabe-41ce-ef71-20a9ac91ccac"
      },
      "execution_count": 39,
      "outputs": [
        {
          "name": "stdout",
          "output_type": "stream",
          "text": [
            "2\n",
            "2\n",
            "3\n",
            "3\n",
            "7\n",
            "7\n",
            "6\n",
            "6\n",
            "8\n",
            "8\n",
            "5\n"
          ]
        }
      ]
    },
    {
      "cell_type": "code",
      "source": [
        "# 33.String Replace\n",
        "def stringReplace(stn):\n",
        "    # Modulo value\n",
        "    MOD = 10**9 + 7\n",
        "\n",
        "    # Initialize the count of operations\n",
        "    operations = 0\n",
        "\n",
        "    # Initialize a pointer for traversal\n",
        "    i = 0\n",
        "\n",
        "    # Traverse through the string\n",
        "    while i < len(stn) - 1:\n",
        "        # If 'xy' is found, replace it and increment operation count\n",
        "        if stn[i] == 'x' and stn[i + 1] == 'y':\n",
        "            operations += 1\n",
        "            # Simulate replacing 'xy' with 'yyx' by skipping ahead 2 characters\n",
        "            i += 2\n",
        "        else:\n",
        "            # Move to the next character\n",
        "            i += 1\n",
        "\n",
        "    # Return operations modulo 10^9 + 7\n",
        "    return operations % MOD\n",
        "\n",
        "# Define test cases\n",
        "def test_stringReplace():\n",
        "    test_cases = [\n",
        "        (\"xxy\", 3),         # Example case\n",
        "        (\"xyxy\", 4),        # Repeated 'xy'\n",
        "        (\"xxxx\", 0),        # No 'xy' present\n",
        "        (\"yyyy\", 0),        # No 'xy' present\n",
        "    ]\n",
        "\n",
        "    # Iterate through test cases\n",
        "    for i, (input_str, expected) in enumerate(test_cases):\n",
        "        result = stringReplace(input_str)\n",
        "        print(f\"Test case {i+1}: {'Passed' if result == expected else 'Failed'}\")\n",
        "        print(f\"Input: {input_str}, Expected: {expected}, Got: {result}\")\n",
        "        print()\n",
        "\n",
        "# Call the test function\n",
        "test_stringReplace()"
      ],
      "metadata": {
        "id": "d8kupx2jxXRm",
        "colab": {
          "base_uri": "https://localhost:8080/"
        },
        "outputId": "de703f1b-9f9d-4cd7-e3a2-5902b532d2a5"
      },
      "execution_count": 44,
      "outputs": [
        {
          "output_type": "stream",
          "name": "stdout",
          "text": [
            "Test case 1: Failed\n",
            "Input: xxy, Expected: 3, Got: 1\n",
            "\n",
            "Test case 2: Failed\n",
            "Input: xyxy, Expected: 4, Got: 2\n",
            "\n",
            "Test case 3: Passed\n",
            "Input: xxxx, Expected: 0, Got: 0\n",
            "\n",
            "Test case 4: Passed\n",
            "Input: yyyy, Expected: 0, Got: 0\n",
            "\n"
          ]
        }
      ]
    },
    {
      "cell_type": "code",
      "source": [
        "# 25. Joining Two Dataframes\n",
        "import pandas as pd\n",
        "# Note: Sequence of the columns should be ['name', 'height', 'weight']\n",
        "# Function to join the two dataframes\n",
        "\n",
        "def joinDF(d1, d2):\n",
        "    # Convert dictionaries to dataframes\n",
        "    df1 = pd.DataFrame(d1)\n",
        "    df2 = pd.DataFrame(d2)\n",
        "\n",
        "    # Convert the 'name' column to lowercase in both dataframes\n",
        "    df1['name'] = df1['name'].str.lower()\n",
        "    df2['name'] = df2['name'].str.lower()\n",
        "\n",
        "    # Perform an inner join on the 'name' column\n",
        "    result = pd.merge(df1, df2, on='name', how='inner')\n",
        "\n",
        "    # Return the result with columns in the required order: 'name', 'height', 'weight'\n",
        "    return result[['name', 'height', 'weight']]\n",
        "\n",
        "# Driver code to execute the function\n",
        "if __name__ == '__main__':\n",
        "    # Input dictionaries\n",
        "    d1 = {'name': ['JOHN1', 'DAVE', 'AJAY', 'TRACY', 'TIYA'], 'height': [174, 190, 184, 170, 162]}\n",
        "    d2 = {'name': ['john', 'dave', 'ajay', 'tracy', 'tiya'], 'weight': [70, 82, 65, 62, 53]}\n",
        "\n",
        "    # Call the function to join dataframes and print the result\n",
        "    result = joinDF(d1, d2)\n",
        "    print(result)\n",
        "\n",
        "# Sample Input\n",
        "# ['name': ['JOHN1', 'DAVE', 'AJAY', 'TRACY', 'TIYA'], 'height': [174, 190, 184, 170, 162]]\n",
        "# ['name': ['john', 'dave', 'ajay', 'tracy', 'tiya'], 'weight': [70, 82, 65, 62, 53]]\n",
        "\n",
        "# Sample Output\n",
        "# name   height  weight\n",
        "# dave   190     82\n",
        "# ajay   184     65\n",
        "# tracy  170     62\n",
        "# tiya   162     53"
      ],
      "metadata": {
        "id": "UOtvYpBQxXPI",
        "colab": {
          "base_uri": "https://localhost:8080/"
        },
        "outputId": "d687e436-7c60-4908-eb5c-b78c8edd6f79"
      },
      "execution_count": 45,
      "outputs": [
        {
          "output_type": "stream",
          "name": "stdout",
          "text": [
            "    name  height  weight\n",
            "0   dave     190      82\n",
            "1   ajay     184      65\n",
            "2  tracy     170      62\n",
            "3   tiya     162      53\n"
          ]
        }
      ]
    },
    {
      "cell_type": "code",
      "source": [
        "# 26. Non Repeated Character\n",
        "from collections import Counter\n",
        "\n",
        "def non_repeating(s):\n",
        "    # Create a Counter to count occurrences of each character\n",
        "    count = Counter(s)\n",
        "\n",
        "    # Iterate through the string to find the first non-repeating character\n",
        "    for char in s:\n",
        "        if count[char] == 1:\n",
        "            return char  # Return the first non-repeating character\n",
        "\n",
        "    # If no non-repeating character is found\n",
        "    return \"not found\"\n",
        "\n",
        "\n",
        "if __name__ == '__main__':\n",
        "    # Input string\n",
        "    s = input().strip()\n",
        "\n",
        "    # Call the function and print the result\n",
        "    print(non_repeating(s))\n",
        "\n",
        "# Sample Input 1\n",
        "# abcdefghija\n",
        "# Sample Output 1\n",
        "# b\n",
        "# Explanation 1\n",
        "# 'a' is repeated, so the first non-repeating character is 'b'.\n",
        "\n",
        "# Sample Input 2\n",
        "# wsgtsgfk\n",
        "# Sample Output 2\n",
        "# w\n",
        "# Explanation 2\n",
        "# 'w' is the first character that does not repeat in the string.\n",
        "\n",
        "# Sample Input 3\n",
        "# aabbcc\n",
        "# Sample Output 3\n",
        "# Copy code\n",
        "# not found"
      ],
      "metadata": {
        "id": "5K-YL1b5xXMl",
        "colab": {
          "base_uri": "https://localhost:8080/"
        },
        "outputId": "92da2d08-725d-4985-f138-1f6045485edf"
      },
      "execution_count": 48,
      "outputs": [
        {
          "output_type": "stream",
          "name": "stdout",
          "text": [
            "aabbcc\n",
            "not found\n"
          ]
        }
      ]
    },
    {
      "cell_type": "code",
      "source": [
        "# 27. Product & Sum\n",
        "def product_and_sum():\n",
        "    # Read the number of elements\n",
        "    N = int(input())\n",
        "\n",
        "    # Initialize sum and product variables\n",
        "    total_sum = 0\n",
        "    total_product = 1\n",
        "\n",
        "    # Read the list elements and calculate sum and product\n",
        "    for _ in range(N):\n",
        "        num = int(input())\n",
        "        total_sum += num\n",
        "        total_product *= num\n",
        "\n",
        "    # Print the sum and product\n",
        "    print(total_sum)\n",
        "    print(total_product)\n",
        "\n",
        "if __name__ == '__main__':\n",
        "    product_and_sum()\n",
        "\n",
        "# Sample Input 1\n",
        "# 4\n",
        "# 1\n",
        "# 2\n",
        "# 3\n",
        "# 4\n",
        "# Sample Output 1\n",
        "# 10\n",
        "# 24"
      ],
      "metadata": {
        "id": "k4D6tfCuxXJ8",
        "colab": {
          "base_uri": "https://localhost:8080/"
        },
        "outputId": "7639e64c-4e52-4616-8cd0-489964bfeec9"
      },
      "execution_count": 49,
      "outputs": [
        {
          "output_type": "stream",
          "name": "stdout",
          "text": [
            "4\n",
            "1\n",
            "2\n",
            "3\n",
            "4\n",
            "10\n",
            "24\n"
          ]
        }
      ]
    },
    {
      "cell_type": "code",
      "source": [
        "# 28. Binary Numbers Divisible by 3\n",
        "def binary_divisible_by_3(input_string):\n",
        "    # Step 1: Parse input\n",
        "    binary_numbers = input_string.split(\",\")  # Split input by commas\n",
        "\n",
        "    # Step 2: Filter numbers divisible by 3\n",
        "    divisible_binaries = [\n",
        "        binary for binary in binary_numbers\n",
        "        if int(binary, 2) % 3 == 0\n",
        "    ]\n",
        "\n",
        "    # Step 3: Join and return the result\n",
        "    return \",\".join(divisible_binaries)\n",
        "\n",
        "\n",
        "# Example usage\n",
        "input_string = input(\"Enter 4-digit binary numbers separated by commas: \")\n",
        "result = binary_divisible_by_3(input_string)\n",
        "print(result)\n",
        "\n",
        "# Sample Input:\n",
        "# 0011,0100,0101,1001\n",
        "# Sample Output:\n",
        "# 0011,1001"
      ],
      "metadata": {
        "id": "iUyz4c_IxXHi",
        "colab": {
          "base_uri": "https://localhost:8080/"
        },
        "outputId": "91002941-187c-42e8-8764-7811f7d1ed10"
      },
      "execution_count": 51,
      "outputs": [
        {
          "output_type": "stream",
          "name": "stdout",
          "text": [
            "Enter 4-digit binary numbers separated by commas: 0011,0100,0101,1001\n",
            "0011,1001\n"
          ]
        }
      ]
    },
    {
      "cell_type": "code",
      "source": [
        "# 29. Convert Seconds to Time\n",
        "# Read the first input (seconds)\n",
        "sec1 = int(input().strip())\n",
        "# Read the second input (seconds)\n",
        "sec2 = int(input().strip())\n",
        "\n",
        "# Convert the first input\n",
        "hours1 = sec1 // 3600\n",
        "minutes1 = (sec1 % 3600) // 60\n",
        "seconds1 = sec1 % 60\n",
        "if hours1 > 0:\n",
        "    print(f\"{hours1:01d}{minutes1:02d}{seconds1:02d}\")\n",
        "else:\n",
        "    print(f\"{minutes1:02d}{seconds1:02d}\")\n",
        "\n",
        "# Convert the second input\n",
        "hours2 = sec2 // 3600\n",
        "minutes2 = (sec2 % 3600) // 60\n",
        "seconds2 = sec2 % 60\n",
        "if hours2 > 0:\n",
        "    print(f\"{hours2:01d}{minutes2:02d}{seconds2:02d}\")\n",
        "else:\n",
        "    print(f\"{minutes2:02d}{seconds2:02d}\")\n",
        "\n",
        "# Sample Input 1\n",
        "# 2200\n",
        "# 4000\n",
        "# Sample Output 1\n",
        "# 03640\n",
        "# 10640\n",
        "# Explanation\n",
        "# 2,200 seconds is 0 hours, 36 minutes, and 40 seconds. Therefore, the output is 03640.\n",
        "# 4,000 seconds is 1 hour, 6 minutes, and 40 seconds. Therefore, the output is 1640.\n",
        "\n",
        "# Sample Input 2\n",
        "# 20\n",
        "# 120\n",
        "# Sample Output 2\n",
        "# 0020\n",
        "# 0200"
      ],
      "metadata": {
        "id": "_3xUUxUsxXFS",
        "colab": {
          "base_uri": "https://localhost:8080/"
        },
        "outputId": "cdbdfe53-2b5a-4901-b64b-4c41d5c3a00c"
      },
      "execution_count": 52,
      "outputs": [
        {
          "output_type": "stream",
          "name": "stdout",
          "text": [
            "2200\n",
            "4000\n",
            "3640\n",
            "10640\n"
          ]
        }
      ]
    },
    {
      "cell_type": "code",
      "source": [
        "# 30. Pure String\n",
        "def pureString(stn):\n",
        "    MOD = 10**9 + 7\n",
        "    n = len(stn)\n",
        "\n",
        "    # Count frequency of each character\n",
        "    freq = {}\n",
        "    for char in stn:\n",
        "        if char in freq:\n",
        "            freq[char] += 1\n",
        "        else:\n",
        "            freq[char] = 1\n",
        "\n",
        "    # Calculate the number of ways (excluding the whole string removal)\n",
        "    result = 0\n",
        "    for char, f in freq.items():\n",
        "        result += f * (n - f)\n",
        "        result %= MOD\n",
        "\n",
        "    # Do not add 1 for removing the entire string\n",
        "    return result\n",
        "\n",
        "if __name__ == '__main__':\n",
        "    stn = input().strip()\n",
        "    print(pureString(stn))\n",
        "\n",
        "# Sample Input\n",
        "# stn\n",
        "# Sample Output\n",
        "# 6"
      ],
      "metadata": {
        "id": "I23EevXxxXC1",
        "colab": {
          "base_uri": "https://localhost:8080/"
        },
        "outputId": "6a359db0-3337-4191-95b2-eb41ac8a3f45"
      },
      "execution_count": 53,
      "outputs": [
        {
          "output_type": "stream",
          "name": "stdout",
          "text": [
            "stn\n",
            "6\n"
          ]
        }
      ]
    },
    {
      "cell_type": "code",
      "source": [
        "# 31.\n",
        "# Complete the 'solve' function below.\n",
        "# The function is expected to return an INTEGER.\n",
        "# The function accepts the following parameters:\n",
        "#  1. STRING s1\n",
        "#  2. STRING s2\n",
        "def solve(s1, s2):\n",
        "    # If lengths of s1 and s2 are not equal, return -1 (impossible to make palindrome)\n",
        "    if len(s1) != len(s2):\n",
        "        return -1\n",
        "\n",
        "\n",
        "    n = len(s1)\n",
        "    replacements = 0\n",
        "\n",
        "\n",
        "    # Compare s1[i] with s2[n - 1 - i] to check for palindrome property\n",
        "    for i in range(n):\n",
        "        if s1[i] != s2[n - 1 - i]:\n",
        "            replacements += 1\n",
        "\n",
        "\n",
        "    return replacements\n",
        "\n",
        "\n",
        "if __name__ == '__main__':\n",
        "    # Read input strings\n",
        "    s1 = \"abeda\"\n",
        "    s2 = \"abcda\"\n",
        "\n",
        "    # Call the function and print the result\n",
        "    print(solve(s1, s2)) # Output : 3\n"
      ],
      "metadata": {
        "id": "GaH-D22bxXAD",
        "colab": {
          "base_uri": "https://localhost:8080/"
        },
        "outputId": "29737c04-c068-4708-bbe8-102c22a96d4a"
      },
      "execution_count": 59,
      "outputs": [
        {
          "output_type": "stream",
          "name": "stdout",
          "text": [
            "3\n"
          ]
        }
      ]
    },
    {
      "cell_type": "code",
      "source": [
        "# 32. String ASCII Difference\n",
        "def Ascii_difference(s):\n",
        "  # input handalling\n",
        "  string1, string2 = s.split(\",\")\n",
        "\n",
        "  # calculate ASCII sum of string1\n",
        "  sum1 = sum(ord(char) for char in string1)\n",
        "\n",
        "  # calculate the ASCII sum of string2\n",
        "  sum2 = sum(ord(char) for char in string2)\n",
        "\n",
        "  # compute the difference\n",
        "  difference = sum1 - sum2\n",
        "  return difference\n",
        "\n",
        "input_string = input()\n",
        "string_without_spaces = input_string.strip()\n",
        "print(Ascii_difference(string_without_spaces))\n",
        "\n",
        "# 123ABC,456DEF\n",
        "# Output:\n",
        "# -18"
      ],
      "metadata": {
        "id": "VtA-PBKxxW9W",
        "colab": {
          "base_uri": "https://localhost:8080/"
        },
        "outputId": "4b109b05-a6d8-42d9-9b3d-1e139daecf9d"
      },
      "execution_count": 61,
      "outputs": [
        {
          "output_type": "stream",
          "name": "stdout",
          "text": [
            "123ABC,456DEF\n",
            "-18\n"
          ]
        }
      ]
    },
    {
      "cell_type": "code",
      "source": [
        "# 33. Lucy and Game\n",
        "def bullseye(scores):\n",
        "    # Calculate the number of bullseyes Lucy hit.\n",
        "    # A bullseye corresponds to a score of 50.\n",
        "\n",
        "    # :param scores: Tuple of integers representing Lucy's scores on each hit.\n",
        "    # :return: Integer, the number of bullseyes.\n",
        "\n",
        "    # Count how many times the score 50 appears in the tuple\n",
        "    return scores.count(50)\n",
        "\n",
        "# Example usage:\n",
        "scores = (20, 50, 50, 1)\n",
        "print(bullseye(scores))  # Output: 2"
      ],
      "metadata": {
        "id": "PMOprUM_xW69",
        "colab": {
          "base_uri": "https://localhost:8080/"
        },
        "outputId": "cb59a7ad-f1a4-4d31-9757-be0298b134cd"
      },
      "execution_count": 62,
      "outputs": [
        {
          "output_type": "stream",
          "name": "stdout",
          "text": [
            "2\n"
          ]
        }
      ]
    },
    {
      "cell_type": "code",
      "source": [
        "# 34. Cricket Score\n",
        "# Complete the 'solve' function below.\n",
        "# The function is expected to return a STRING.\n",
        "# The function accepts STRING score as parameter.\n",
        "\n",
        "def solve(score):\n",
        "    # Initialize scores for both players\n",
        "    player1_score = 0\n",
        "    player2_score = 0\n",
        "\n",
        "    # Determine whose turn it is to bat: 1 means player1, 2 means player2\n",
        "    current_player = 1\n",
        "\n",
        "    # Process each ball score in the string\n",
        "    for i, char in enumerate(score):\n",
        "        if char == '|':\n",
        "            # Strike changes after every over (6 balls)\n",
        "            current_player = 2 if current_player == 1 else 1\n",
        "        else:\n",
        "            # Convert the character to integer to get the score for the ball\n",
        "            runs = int(char)\n",
        "            if current_player == 1:\n",
        "                player1_score += runs\n",
        "            else:\n",
        "                player2_score += runs\n",
        "\n",
        "    # Compare the scores of player1 and player2\n",
        "    if player1_score >= player2_score:\n",
        "        print(\"player1\")\n",
        "    else:\n",
        "        print(\"player2\")\n",
        "\n",
        "\n",
        "# Example usage\n",
        "if __name__ == '__main__':\n",
        "    score = input()  # Input the score timeline as a string\n",
        "    solve(score)\n",
        "\n",
        "# Sample Input\n",
        "# 423002|2611\n",
        "# Sample Output\n",
        "# player1"
      ],
      "metadata": {
        "id": "J7wUwDY8xW4l",
        "colab": {
          "base_uri": "https://localhost:8080/"
        },
        "outputId": "6fe2b6dc-a785-4954-f333-8fc07a24dbc6"
      },
      "execution_count": 63,
      "outputs": [
        {
          "output_type": "stream",
          "name": "stdout",
          "text": [
            "423002|2611\n",
            "player1\n"
          ]
        }
      ]
    },
    {
      "cell_type": "code",
      "source": [
        "# 35. Smallest and the largest number\n",
        "# Step 1: Read the input string\n",
        "input_string = input()\n",
        "\n",
        "# Step 2: Split the string into a list of numbers (string format)\n",
        "numbers = input_string.split(',')\n",
        "\n",
        "# Step 3: Convert the list of string numbers to integers\n",
        "numbers = [int(num.strip()) for num in numbers]\n",
        "\n",
        "# Step 4: Find the smallest and largest numbers using min and max functions\n",
        "smallest = min(numbers)\n",
        "largest = max(numbers)\n",
        "\n",
        "# Step 5: Print the result in the required format\n",
        "print(f\"Smallest = {smallest} Largest = {largest}\")\n",
        "\n",
        "# Sample Input\n",
        "# 78,81, 12, 54, 1010\n",
        "# Sample Output\n",
        "# Smallest = 12 Largest = 1010"
      ],
      "metadata": {
        "id": "KwuXhY2UxW2I",
        "colab": {
          "base_uri": "https://localhost:8080/"
        },
        "outputId": "00c4ebf6-d2e4-4919-9fe3-f43f81abbe95"
      },
      "execution_count": 64,
      "outputs": [
        {
          "output_type": "stream",
          "name": "stdout",
          "text": [
            "78,81, 12, 54, 1010\n",
            "Smallest = 12 Largest = 1010\n"
          ]
        }
      ]
    },
    {
      "cell_type": "code",
      "source": [
        "# 36. Word Length\n",
        "# Complete the 'count_word' function below.\n",
        "# The function is expected to return an INTEGER ARRAY.\n",
        "# The function accepts STRING ARRAY ss as parameter.\n",
        "\n",
        "def count_word(ss):\n",
        "    # Return the length of each word in the list\n",
        "    return [len(word) for word in ss]\n",
        "\n",
        "\n",
        "if __name__ == '__main__':\n",
        "    N = int(input())  # Read the number of words\n",
        "    words = [input().strip() for _ in range(N)]  # Read all words\n",
        "    lengths = count_word(words)  # Get the lengths of the words\n",
        "    for length in lengths:\n",
        "        print(length)  # Print each length\n",
        "\n",
        "# Input\n",
        "# 3\n",
        "# one\n",
        "# two\n",
        "# three\n",
        "# Output\n",
        "# 3\n",
        "# 3\n",
        "# 5"
      ],
      "metadata": {
        "id": "g6vCQx1jxWz4",
        "colab": {
          "base_uri": "https://localhost:8080/"
        },
        "outputId": "86769df8-d68f-4a46-dc7b-7f32b232b6df"
      },
      "execution_count": 68,
      "outputs": [
        {
          "output_type": "stream",
          "name": "stdout",
          "text": [
            "3\n",
            "one\n",
            "two\n",
            "three\n",
            "3\n",
            "3\n",
            "5\n"
          ]
        }
      ]
    },
    {
      "cell_type": "code",
      "source": [
        "# 37. RGB to Hex values\n",
        "# Read the input RGB values as a string\n",
        "rgb_values = input().strip()\n",
        "\n",
        "\n",
        "# Split the input string by the hyphen\n",
        "rgb_list = rgb_values.split('-')\n",
        "\n",
        "\n",
        "# Check if the list contains exactly three elements\n",
        "if len(rgb_list) != 3:\n",
        "    print(\"NA\")\n",
        "else:\n",
        "    try:\n",
        "        # Convert the RGB values to integers\n",
        "        r, g, b = int(rgb_list[0]), int(rgb_list[1]), int(rgb_list[2])\n",
        "\n",
        "        # Check if any value exceeds 255\n",
        "        if r > 255 or g > 255 or b > 255:\n",
        "            print(\"NA\")\n",
        "        else:\n",
        "            # Convert each value to two-digit hexadecimal format and concatenate them\n",
        "            hex_value = f\"#{r:02X}{g:02X}{b:02X}\"\n",
        "            print(hex_value)\n",
        "    except ValueError:\n",
        "        print(\"NA\")\n",
        "\n",
        "# Sample Input 1\n",
        "# 15-19-22\n",
        "# Sample Output 1\n",
        "# #0F1316\n",
        "# Here the hex value of 15 is F, but it is printed as 0F.\n",
        "\n",
        "# Sample Input 2\n",
        "# 245-14-267\n",
        "# Sample Output 2\n",
        "# NA"
      ],
      "metadata": {
        "id": "q5AF8dbbxWxK",
        "colab": {
          "base_uri": "https://localhost:8080/"
        },
        "outputId": "c28da3a0-ce41-4378-821b-6e04f84b2ad2"
      },
      "execution_count": 66,
      "outputs": [
        {
          "output_type": "stream",
          "name": "stdout",
          "text": [
            "15-19-22\n",
            "#0F1316\n"
          ]
        }
      ]
    },
    {
      "cell_type": "code",
      "source": [
        "# 38. String Deletion\n",
        "# Read input values\n",
        "t = input().strip()  # string t\n",
        "x = int(input())     # integer x\n",
        "y = int(input())     # integer y\n",
        "\n",
        "total = 0\n",
        "n = len(t)\n",
        "\n",
        "# Initialize a counter for the length of the current group\n",
        "i = 0\n",
        "\n",
        "while i < n:\n",
        "    # Find the length of the current group of consecutive characters\n",
        "    j = i\n",
        "    while j < n and t[j] == t[i]:\n",
        "        j += 1\n",
        "\n",
        "    # Calculate the length of the group\n",
        "    length_of_group = j - i\n",
        "\n",
        "    # Calculate earnings from this group\n",
        "    earnings = x * length_of_group + y\n",
        "    total += earnings\n",
        "\n",
        "    # Move to the next group\n",
        "    i = j\n",
        "\n",
        "# Output the total earnings\n",
        "print(total)\n",
        "\n",
        "# Sample Input\n",
        "# aabba\n",
        "# -3\n",
        "# 5\n",
        "# Sample Output\n",
        "# 0"
      ],
      "metadata": {
        "id": "bJJKnLNqxWu1",
        "colab": {
          "base_uri": "https://localhost:8080/"
        },
        "outputId": "7186a23a-eb4f-46fa-ce88-7dfebbdde10e"
      },
      "execution_count": 67,
      "outputs": [
        {
          "output_type": "stream",
          "name": "stdout",
          "text": [
            "aabba\n",
            "-3\n",
            "5\n",
            "0\n"
          ]
        }
      ]
    },
    {
      "cell_type": "code",
      "source": [
        "# 39. Divisibility By 3\n",
        "# Complete the 'solve' function below.\n",
        "# The function is expected to return a STRING.\n",
        "# The function accepts STRING s as parameter.\n",
        "\n",
        "def solve(s):\n",
        "    # Calculate the sum of digits in the string\n",
        "    digit_sum = sum(int(digit) for digit in s)\n",
        "\n",
        "    # Check if the sum is divisible by 3\n",
        "    if digit_sum % 3 == 0:\n",
        "        print(\"Yes\")\n",
        "    else:\n",
        "        print(\"No\")\n",
        "\n",
        "if __name__ == '__main__':\n",
        "    # Input the large number as a string\n",
        "    s = input().strip()\n",
        "\n",
        "    # Call the function with the input string\n",
        "    solve(s)  # Pass the input to the function\n",
        "\n",
        "# Sample Input\n",
        "# 64563\n",
        "# Sample Output\n",
        "# Yes"
      ],
      "metadata": {
        "id": "7RrQtNaexWsj",
        "colab": {
          "base_uri": "https://localhost:8080/"
        },
        "outputId": "ade9d113-880f-4c72-f741-d8c029ea803d"
      },
      "execution_count": 69,
      "outputs": [
        {
          "output_type": "stream",
          "name": "stdout",
          "text": [
            "64563\n",
            "Yes\n"
          ]
        }
      ]
    },
    {
      "cell_type": "code",
      "source": [
        "# 40. Unique Characters Separated by a Space\n",
        "# Input the string\n",
        "s = input().strip()\n",
        "\n",
        "# Use a set to find unique characters\n",
        "unique_characters = set(s)\n",
        "\n",
        "# Print the unique characters separated by space\n",
        "print(\" \".join(sorted(unique_characters)))\n",
        "\n",
        "# Sample Input\n",
        "# apple\n",
        "# Sample Output\n",
        "# a l e P"
      ],
      "metadata": {
        "id": "Q7RZ1L_qxWp9",
        "colab": {
          "base_uri": "https://localhost:8080/"
        },
        "outputId": "6f2c728c-72f5-4056-b0ff-bf1c034b076a"
      },
      "execution_count": 70,
      "outputs": [
        {
          "output_type": "stream",
          "name": "stdout",
          "text": [
            "apple\n",
            "a e l p\n"
          ]
        }
      ]
    },
    {
      "cell_type": "code",
      "source": [
        "# 41. More Subsequences\n",
        "# The function is expected to return an INTEGER.\n",
        "# The function accepts following parameters:\n",
        "# 1. STRING parent_string\n",
        "# 2. STRING pattern_string\n",
        "\n",
        "# Complete the 'maximum_subsequences' function below.\n",
        "def maximum_subsequences(parent_string, pattern_string):\n",
        "    # Extract the characters from the pattern string\n",
        "    first_char = pattern_string[0]\n",
        "    second_char = pattern_string[1]\n",
        "\n",
        "\n",
        "    # Variables to track the counts\n",
        "    count_first_char = 0\n",
        "    subseq_count = 0\n",
        "\n",
        "    # Count subsequences of \"first_char\" before \"second_char\"\n",
        "    for ch in parent_string:\n",
        "        if ch == second_char:\n",
        "            subseq_count += count_first_char  # \"first_char\" subsequences before \"second_char\"\n",
        "        if ch == first_char:\n",
        "            count_first_char += 1  # Increment the count of \"first_char\"\n",
        "\n",
        "\n",
        "    # Now consider adding the second character before\n",
        "    subseq_count_before_addition = subseq_count + count_first_char\n",
        "\n",
        "\n",
        "    # Now consider adding the first character after\n",
        "    count_second_char = 0\n",
        "    subseq_count_after_addition = 0\n",
        "    for ch in reversed(parent_string):\n",
        "        if ch == first_char:\n",
        "            subseq_count_after_addition += count_second_char  # \"second_char\" subsequences before \"first_char\"\n",
        "        if ch == second_char:\n",
        "            count_second_char += 1  # Increment the count of \"second_char\"\n",
        "\n",
        "\n",
        "    # The result is the maximum of both possible additions\n",
        "    result = max(subseq_count_before_addition, subseq_count_after_addition)\n",
        "    return result\n",
        "\n",
        "\n",
        "if __name__ == \"__main__\":\n",
        "    # Test cases\n",
        "    parent_string = input().strip()\n",
        "    pattern_string = input().strip()\n",
        "    print(maximum_subsequences(parent_string, pattern_string))\n",
        "\n",
        "# Sample Input\n",
        "# aabb\n",
        "# ab\n",
        "# Sample Output\n",
        "# 6"
      ],
      "metadata": {
        "id": "zFEBA4DgxWn0"
      },
      "execution_count": null,
      "outputs": []
    },
    {
      "cell_type": "code",
      "source": [
        "# 42. Middle 3 Digits\n",
        "# Read the input integer as a string\n",
        "num = input().strip()\n",
        "\n",
        "# Check if the length of the number is less than 3\n",
        "if len(num) < 3:\n",
        "    print(\"This is not possible\")\n",
        "else:\n",
        "    # Find the middle 3 digits\n",
        "    start = (len(num) - 3) // 2\n",
        "    middle_digits = num[start:start + 3]\n",
        "    print(middle_digits)\n",
        "\n",
        "# Sample Input 1\n",
        "# 12345\n",
        "# Sample Output 1\n",
        "# 234\n",
        "# Sample Input 2\n",
        "# 1\n",
        "# Sample Output 2\n",
        "# This is not possible"
      ],
      "metadata": {
        "id": "aG0l6yLoxWlk",
        "colab": {
          "base_uri": "https://localhost:8080/"
        },
        "outputId": "d90159cd-ac11-4a02-cc0e-5759f4c2b062"
      },
      "execution_count": 71,
      "outputs": [
        {
          "output_type": "stream",
          "name": "stdout",
          "text": [
            "12345\n",
            "234\n"
          ]
        }
      ]
    },
    {
      "cell_type": "code",
      "source": [
        "# 43. Lucy Queries\n",
        "# Read the number of test cases\n",
        "T = int(input())\n",
        "\n",
        "# Process each test case\n",
        "for _ in range(T):\n",
        "    # Read number of friends and queries\n",
        "    N, Q = map(int, input().split())\n",
        "\n",
        "    # Initialize dictionary to store friends' details\n",
        "    friends_details = {}\n",
        "\n",
        "    # Read details of each friend\n",
        "    for _ in range(N):\n",
        "        name, age, hobbies, fav_chocolate = input().split()\n",
        "        # Store the details in the dictionary\n",
        "        friends_details[name] = (age, hobbies, fav_chocolate)\n",
        "\n",
        "    # Handle the queries\n",
        "    for _ in range(Q):\n",
        "        query_name = input().strip()\n",
        "        # Retrieve and print the details of the queried friend\n",
        "        age, hobbies, fav_chocolate = friends_details[query_name]\n",
        "        print(f\"{age}, {hobbies}, {fav_chocolate}\")\n",
        "\n",
        "# Sample Input\n",
        "# 1\n",
        "# 3 2\n",
        "# diwakar 22 programming darkfantacy\n",
        "# suraj 11 programming milkybar\n",
        "# Ashutosh 17 football milkybar\n",
        "# suraj\n",
        "# Ashutosh\n",
        "\n",
        "# Sample Output\n",
        "# 11, programming, milkybar\n",
        "# 17, football, milkybar"
      ],
      "metadata": {
        "id": "O2fwGAtExWi7",
        "colab": {
          "base_uri": "https://localhost:8080/"
        },
        "outputId": "32ccac02-b6ef-47ce-ebb7-1e1d0e8ac25b"
      },
      "execution_count": 72,
      "outputs": [
        {
          "output_type": "stream",
          "name": "stdout",
          "text": [
            "1\n",
            "3 2\n",
            "diwakar 22 programming darkfantacy\n",
            "suraj 11 programming milkybar\n",
            "Ashutosh 17 football milkybar\n",
            "suraj\n",
            "11, programming, milkybar\n",
            "Ashutosh\n",
            "17, football, milkybar\n"
          ]
        }
      ]
    },
    {
      "cell_type": "code",
      "source": [
        "# 44. Winning Teams\n",
        "import pandas as pd\n",
        "\n",
        "# Function to filter teams with at least 500 wins\n",
        "def WinningGame(df):\n",
        "    # Filter the dataframe to include only teams with at least 500 wins\n",
        "    filtered_df = df[df['Won'] >= 500]\n",
        "    return filtered_df\n",
        "\n",
        "if __name__ == \"__main__\":\n",
        "    # Sample input data\n",
        "    data = {\n",
        "        'Team': ['Team1', 'Team2', 'Team3', 'Team4'],\n",
        "        'Won': [741, 480, 720, 429],\n",
        "        'Lost': [555, 364, 547, 335],\n",
        "        'Tied': [42, 6, 37, 4]\n",
        "    }\n",
        "\n",
        "    # Create a DataFrame from the input data\n",
        "    df = pd.DataFrame(data)\n",
        "\n",
        "    # Get the filtered DataFrame\n",
        "    result = WinningGame(df)\n",
        "\n",
        "    # Print the result\n",
        "    print(result)\n",
        "# Sample Input\n",
        "# {\n",
        "#   'Team': ['Team1', 'Team2', 'Team3', 'Team4'],\n",
        "#   'Won': [741, 480, 720, 429],\n",
        "#   'Lost': [555, 364, 547, 335],\n",
        "#   'Tied': [42, 6, 37, 4]\n",
        "# }\n",
        "\n",
        "# Sample Output\n",
        "#     Team  Won  Lost  Tied\n",
        "# 0  Team1  741   555    42\n",
        "# 1  Team3  720   547    37"
      ],
      "metadata": {
        "id": "rt2ccSXQStd1",
        "colab": {
          "base_uri": "https://localhost:8080/"
        },
        "outputId": "3ad74552-4011-45da-953f-a368912f7b7f"
      },
      "execution_count": 73,
      "outputs": [
        {
          "output_type": "stream",
          "name": "stdout",
          "text": [
            "    Team  Won  Lost  Tied\n",
            "0  Team1  741   555    42\n",
            "2  Team3  720   547    37\n"
          ]
        }
      ]
    },
    {
      "cell_type": "code",
      "source": [
        "# 45. Reverse Sentence\n",
        "def reverse(sentence):\n",
        "    # Split the sentence into words\n",
        "    words = sentence.split()\n",
        "\n",
        "    # Reverse the list of words\n",
        "    reversed_words = words[::-1]\n",
        "\n",
        "    # Join the reversed words into a sentence and print\n",
        "    print(\" \".join(reversed_words))\n",
        "\n",
        "\n",
        "if __name__ == \"__main__\":\n",
        "    # Input sentence\n",
        "    sentence = input()\n",
        "\n",
        "    # Call the reverse function\n",
        "    reverse(sentence)\n",
        "\n",
        "# Sample Input\n",
        "# I am so blue I am greener than purple\n",
        "# Sample Output\n",
        "# purple than greener am I blue so am I"
      ],
      "metadata": {
        "id": "QG3gq6NkStgY",
        "colab": {
          "base_uri": "https://localhost:8080/"
        },
        "outputId": "b3f2b118-ae47-4979-bf79-80b17e20ca58"
      },
      "execution_count": 74,
      "outputs": [
        {
          "output_type": "stream",
          "name": "stdout",
          "text": [
            "I am so blue I am greener than purple\n",
            "purple than greener am I blue so am I\n"
          ]
        }
      ]
    },
    {
      "cell_type": "code",
      "source": [
        "# 46. What does the Fox say?\n",
        "import re\n",
        "# Input sentence\n",
        "sentence = input() # The quick brown fox jumps over the lazy dog\n",
        "\n",
        "# Input N\n",
        "N = int(input()) # 3\n",
        "\n",
        "# Split sentence into words\n",
        "words = sentence.split()\n",
        "\n",
        "# Check if the number of words is less than 3\n",
        "if len(words) < 3:\n",
        "    print(\"Too Less Number of Words Entered\")\n",
        "else:\n",
        "    # Filter words with length N and print each on a new line\n",
        "    for word in words:\n",
        "        if len(word) == N:\n",
        "            print(word)\n",
        "\n",
        "# Sample Input 1:\n",
        "# The quick brown fox jumps over the lazy dog\n",
        "# 3\n",
        "# Sample Output 1:\n",
        "# The\n",
        "# fox\n",
        "# the\n",
        "# dog\n",
        "\n",
        "# Sample Input 2:\n",
        "# Are You\n",
        "# 4\n",
        "# Sample Output 2:\n",
        "# Too Less Number of Words Entered"
      ],
      "metadata": {
        "id": "y4GYqjY1Sti0",
        "colab": {
          "base_uri": "https://localhost:8080/"
        },
        "outputId": "c18df63a-b12a-41ad-87ac-86431aee3103"
      },
      "execution_count": 77,
      "outputs": [
        {
          "output_type": "stream",
          "name": "stdout",
          "text": [
            "Are You\n",
            "4\n",
            "Too Less Number of Words Entered\n"
          ]
        }
      ]
    },
    {
      "cell_type": "code",
      "source": [
        "# 47. That's Pretty Uncommon!\n",
        "import pandas as pd\n",
        "# Complete the 'solve' function below.\n",
        "# The function is expected to return an INTEGER.\n",
        "# The function accepts STRING date as parameter.\n",
        "\n",
        "def solve(date):\n",
        "    # Read the first list of elements\n",
        "    list1 = input().split()\n",
        "    # Read the second list of elements\n",
        "    list2 = input().split()\n",
        "\n",
        "    # Create two pandas Series from the input lists\n",
        "    series1 = pd.Series(list1)\n",
        "    series2 = pd.Series(list2)\n",
        "\n",
        "    # Find elements that are not common between the two lists\n",
        "    result = pd.concat([series1, series2]).drop_duplicates(keep=False)\n",
        "\n",
        "    # Print the result with dtype\n",
        "    print(result)\n",
        "\n",
        "if __name__ == \"__main__\":\n",
        "    # Now we only call the solve function\n",
        "    solve(\"dummy\")  # Passing a dummy value for 'date' to match the signature\n",
        "\n",
        "# Sample Input:\n",
        "# 1 2 3 4 5 6\n",
        "# 4 5 6 7 8 9\n",
        "\n",
        "# Sample Output:\n",
        "# 0 1\n",
        "# 1 2\n",
        "# 2 3\n",
        "# 3 7\n",
        "# 4 8\n",
        "# 5 9\n",
        "# dtype: object"
      ],
      "metadata": {
        "id": "QcYN2OUxStlZ",
        "colab": {
          "base_uri": "https://localhost:8080/"
        },
        "outputId": "f9508cab-e8fe-4a58-adbd-6eba24b6e3c2"
      },
      "execution_count": 78,
      "outputs": [
        {
          "output_type": "stream",
          "name": "stdout",
          "text": [
            "1 2 3 4 5 6\n",
            "4 5 6 7 8 9\n",
            "0    1\n",
            "1    2\n",
            "2    3\n",
            "3    7\n",
            "4    8\n",
            "5    9\n",
            "dtype: object\n"
          ]
        }
      ]
    },
    {
      "cell_type": "code",
      "source": [
        "# 48. Check Match\n",
        "# List A1 with predefined elements\n",
        "A1 = [\"QTP\", \"Selenium\", \"Protractor\"]\n",
        "\n",
        "# Read input from the user\n",
        "input_str = input()\n",
        "\n",
        "# Convert the input string into a list of elements\n",
        "input_list = input_str.split(\", \")\n",
        "\n",
        "# Compare the sets of A1 and the input list\n",
        "if set(A1) == set(input_list):\n",
        "    print(\"Match\")\n",
        "else:\n",
        "    print(\"Not Match\")\n",
        "\n",
        "# Sample Input 1:\n",
        "# Protractor, Selenium, QTP\n",
        "# Sample Output 1:\n",
        "# Match\n",
        "\n",
        "# Sample Input 2:\n",
        "# Puppeteer, Tosca, Selenium\n",
        "# Sample Output 2:\n",
        "# Not Match"
      ],
      "metadata": {
        "id": "QB6fLGyKStnv",
        "colab": {
          "base_uri": "https://localhost:8080/"
        },
        "outputId": "568da209-77f5-4965-c9ea-49cd99ffa128"
      },
      "execution_count": 79,
      "outputs": [
        {
          "output_type": "stream",
          "name": "stdout",
          "text": [
            "Protractor, Selenium, QTP\n",
            "Match\n"
          ]
        }
      ]
    },
    {
      "cell_type": "code",
      "source": [
        "# 49. Positive Sales\n",
        "# Read the number of days\n",
        "numDays = int(input())\n",
        "\n",
        "# Read the sales values for N days\n",
        "sales = list(map(int, input().split()))\n",
        "\n",
        "# Initialize a counter for profitable days\n",
        "profitable_days = 0\n",
        "\n",
        "# Iterate through the sales values and count positive sales\n",
        "for sale in sales:\n",
        "    if sale > 0:\n",
        "        profitable_days += 1\n",
        "\n",
        "# Output the number of profitable days\n",
        "print(profitable_days)\n",
        "\n",
        "# Sample Input:\n",
        "# 7\n",
        "# 23 -7 13 -34 56 43 -12\n",
        "# Sample Output:\n",
        "# 4\n"
      ],
      "metadata": {
        "id": "VdhvYH62StqL",
        "colab": {
          "base_uri": "https://localhost:8080/"
        },
        "outputId": "a0916bd6-1c0f-4783-ec9d-3d37246eedad"
      },
      "execution_count": 80,
      "outputs": [
        {
          "output_type": "stream",
          "name": "stdout",
          "text": [
            "7\n",
            "23 -7 13 -34 56 43 -12\n",
            "4\n"
          ]
        }
      ]
    },
    {
      "cell_type": "code",
      "source": [
        "# 50. Infinite String\n",
        "# Complete the 'find_string' function below.\n",
        "# The function is expected to return an STRING.\n",
        "# The function accepts the following parameters:\n",
        "# 1. STRING S\n",
        "# 2. STRING A\n",
        "def find_string(S, A):\n",
        "    # Repeat string S enough times to cover the possible positions of A\n",
        "    repeated_S = S * ((len(A) // len(S)) + 2)  # We add extra repetition for any overlap\n",
        "\n",
        "\n",
        "    # Check if A is a substring of the repeated string\n",
        "    if A in repeated_S:\n",
        "        return \"YES\"\n",
        "    else:\n",
        "        return \"NO\"\n",
        "\n",
        "\n",
        "if __name__ == '__main__':\n",
        "    # Read input strings\n",
        "    S = input().strip()\n",
        "    A = input().strip()\n",
        "\n",
        "    # Get the result and print it\n",
        "    result = find_string(S, A)\n",
        "    print(result)\n",
        "\n",
        "# Sample Input 1:\n",
        "# ghijk\n",
        "# ghijkghi\n",
        "# Sample Output 1:\n",
        "# YES"
      ],
      "metadata": {
        "id": "LTOi3AE2Stsn",
        "colab": {
          "base_uri": "https://localhost:8080/"
        },
        "outputId": "2157103b-3a62-4042-ec8f-33ad78e8e109"
      },
      "execution_count": 81,
      "outputs": [
        {
          "output_type": "stream",
          "name": "stdout",
          "text": [
            "ghijk\n",
            "ghijkghi\n",
            "YES\n"
          ]
        }
      ]
    },
    {
      "cell_type": "code",
      "source": [
        "# 51. String Manipulation\n",
        "def delete_char(s: str, c: str) -> str:\n",
        "    # Validate that 'c' is a single character\n",
        "    if len(c) != 1:\n",
        "        return \"Error: 'c' must be a single character.\"\n",
        "\n",
        "    # Remove all occurrences of 'c' from 's'\n",
        "    result = s.replace(c, \"\")\n",
        "    return result\n",
        "\n",
        "# Take inputs from the user\n",
        "input_string = input(\"Enter the string: \")\n",
        "input_char = input(\"Enter the character to remove from the string: \")\n",
        "\n",
        "# Call the function and print the result\n",
        "print(delete_char(input_string, input_char))\n",
        "\n",
        "# Example 1:\n",
        "# s = \"hello world\"\n",
        "# c = \"l\"\n",
        "# result = delete_char(s, c)\n",
        "# print(result)  # Output: \"heo word\"\n",
        "# Output:\n",
        "# heo word\n",
        "\n",
        "# Example 2:\n",
        "# s = \"abcdef\"\n",
        "# c = \"z\"\n",
        "# result = delete_char(s, c)\n",
        "# print(result)  # Output: \"abcdef\" (no change since 'z' is not in the string)\n",
        "\n",
        "# Output:\n",
        "# abcdef"
      ],
      "metadata": {
        "id": "o3o9mRAqStxp",
        "colab": {
          "base_uri": "https://localhost:8080/"
        },
        "outputId": "b1a1738d-11a3-47c9-c048-008cac41fc61"
      },
      "execution_count": 82,
      "outputs": [
        {
          "output_type": "stream",
          "name": "stdout",
          "text": [
            "Enter the string: hello world\n",
            "Enter the character to remove from the string: l\n",
            "heo word\n"
          ]
        }
      ]
    },
    {
      "cell_type": "code",
      "source": [
        "# 52. Remove Palindromes\n",
        "def remove_palindromes(s):\n",
        "    changes = 0\n",
        "    n = len(s)\n",
        "\n",
        "    # Iterate through the string to find consecutive characters\n",
        "    for i in range(1, n):\n",
        "        # If adjacent characters are the same, we need to change one of them\n",
        "        if s[i] == s[i - 1]:\n",
        "            changes += 1\n",
        "            # Change current character to avoid matching next one as well\n",
        "            # This is a placeholder operation and doesn't modify the original string\n",
        "            s = s[:i] + '#' + s[i+1:]\n",
        "\n",
        "    return changes\n",
        "\n",
        "# Example\n",
        "print(remove_palindromes(\"abba\"))  # Output: 1\n",
        "\n",
        "# Sample Input:\n",
        "# abba\n",
        "\n",
        "# Sample Output:\n",
        "# 1"
      ],
      "metadata": {
        "id": "ycEWOjhjSt0U",
        "colab": {
          "base_uri": "https://localhost:8080/"
        },
        "outputId": "6cf4d179-ac58-4e82-c865-86539ca78122"
      },
      "execution_count": 84,
      "outputs": [
        {
          "output_type": "stream",
          "name": "stdout",
          "text": [
            "1\n"
          ]
        }
      ]
    },
    {
      "cell_type": "code",
      "source": [
        "# 53. Find and Display Non-Common Elements Between Two Lists\n",
        "def find_non_common_elements(list1, list2):\n",
        "    # Step 1: Convert input strings into lists of integers\n",
        "    list1 = [int(x) for x in list1]\n",
        "    list2 = [int(x) for x in list2]\n",
        "\n",
        "    # Step 2: Find common elements\n",
        "    common_elements = set(list1) & set(list2)\n",
        "\n",
        "    # Step 3: Find non-common elements\n",
        "    non_common_elements = sorted(set(list1 + list2) - common_elements)\n",
        "\n",
        "    # Step 4: Print each element and its dtype\n",
        "    for element in non_common_elements:\n",
        "        print(element, type(element))\n",
        "\n",
        "    return non_common_elements\n",
        "\n",
        "# Example usage\n",
        "list1 = \"123456\"\n",
        "list2 = \"456789\"\n",
        "find_non_common_elements(list1, list2)\n",
        "\n",
        "# Example:\n",
        "# 123456\n",
        "# 456789\n",
        "\n",
        "# Sample Output:\n",
        "# 1\n",
        "# 2\n",
        "# 3\n",
        "# 7\n",
        "# 8\n",
        "# 9\n",
        "# dtype: object"
      ],
      "metadata": {
        "id": "YK4p1rTWSt23",
        "colab": {
          "base_uri": "https://localhost:8080/"
        },
        "outputId": "1f707210-8ce1-4d6e-9062-1cc170768517"
      },
      "execution_count": 85,
      "outputs": [
        {
          "output_type": "stream",
          "name": "stdout",
          "text": [
            "1 <class 'int'>\n",
            "2 <class 'int'>\n",
            "3 <class 'int'>\n",
            "7 <class 'int'>\n",
            "8 <class 'int'>\n",
            "9 <class 'int'>\n"
          ]
        },
        {
          "output_type": "execute_result",
          "data": {
            "text/plain": [
              "[1, 2, 3, 7, 8, 9]"
            ]
          },
          "metadata": {},
          "execution_count": 85
        }
      ]
    },
    {
      "cell_type": "code",
      "source": [
        "# 54. String Manipulation\n",
        "# Step 1: Input Handling\n",
        "strings = [input(\"Enter a string of 8 characters: \") for _ in range(5)]\n",
        "\n",
        "\n",
        "# Step 2: Function to Swap Pairs\n",
        "def swap_pairs(s):\n",
        "    return ''.join(s[i+1] + s[i] for i in range(0, len(s), 2))\n",
        "\n",
        "\n",
        "# Step 3: Transform and Output\n",
        "for string in strings:\n",
        "    print(swap_pairs(string))\n",
        "\n",
        "# Example 1:\n",
        "# Mnopqrst\n",
        "# abcdefgh\n",
        "# pingpong\n",
        "# taptipta\n",
        "# 10298432\n",
        "\n",
        "# Output:\n",
        "# nMporgts\n",
        "# badcfehg\n",
        "# ipgnopgn\n",
        "# attppiat\n",
        "# 01924823\n",
        "\n",
        "# Example 2:\n",
        "# Input:\n",
        "# 10101010\n",
        "# 11111111\n",
        "# ABABabab\n",
        "# Abstract\n",
        "\n",
        "# Output:\n",
        "# 01010101\n",
        "# 11111111\n",
        "# BABAbaba\n",
        "# Abtsract\n"
      ],
      "metadata": {
        "id": "FkdKQlADSt5O",
        "colab": {
          "base_uri": "https://localhost:8080/"
        },
        "outputId": "1fc704e5-1ecf-4426-b08f-e698645e1464"
      },
      "execution_count": 87,
      "outputs": [
        {
          "output_type": "stream",
          "name": "stdout",
          "text": [
            "Enter a string of 8 characters: 10101010\n",
            "Enter a string of 8 characters: 11111111\n",
            "Enter a string of 8 characters: ABABabab\n",
            "Enter a string of 8 characters: Abstract\n",
            "Enter a string of 8 characters: taptipta\n",
            "01010101\n",
            "11111111\n",
            "BABAbaba\n",
            "bAtsartc\n",
            "attppiat\n"
          ]
        }
      ]
    },
    {
      "cell_type": "code",
      "source": [
        "# 55. String Game\n",
        "def string_game(n, s):\n",
        "    # Step 2: Assign letters to players\n",
        "    gaju_letters = set(\"acegikmoqsuwy\")  # Odd-positioned letters\n",
        "    viju_letters = set(\"bdfhjlnprtvxz\")  # Even-positioned letters\n",
        "\n",
        "\n",
        "    # Step 3: Count letters for each player\n",
        "    gaju_count = sum(1 for char in s if char in gaju_letters)\n",
        "    viju_count = sum(1 for char in s if char in viju_letters)\n",
        "\n",
        "\n",
        "    # Step 4: Determine and return the winner\n",
        "    if gaju_count > viju_count:\n",
        "        return \"Gaju\"\n",
        "    else:\n",
        "        return \"Viju\"\n",
        "\n",
        "\n",
        "# Example usage\n",
        "n = int(input())\n",
        "s = input()\n",
        "print(string_game(n, s))  # Output: \"Gaju\"\n",
        "\n",
        "\n",
        "# Sample Input:\n",
        "# 7\n",
        "# doselec\n",
        "# Sample Output:\n",
        "# Gaju"
      ],
      "metadata": {
        "id": "9sx1JGIKSt7o",
        "colab": {
          "base_uri": "https://localhost:8080/"
        },
        "outputId": "7d0dc06e-4fdd-446b-de21-4901be9d37c0"
      },
      "execution_count": 89,
      "outputs": [
        {
          "output_type": "stream",
          "name": "stdout",
          "text": [
            "7\n",
            "doselect\n",
            "Gaju\n"
          ]
        }
      ]
    },
    {
      "cell_type": "code",
      "source": [
        "# 56. Sort Substrings Alphabetically\n",
        "def sort_substrings_alphabetically(input_string):\n",
        "    # Split the input into a list of words\n",
        "    words = input_string.split(\", \")\n",
        "    # Sort the words alphabetically\n",
        "    sorted_words = sorted(words)\n",
        "    # Join the sorted words with a comma and space\n",
        "    return \", \".join(sorted_words)\n",
        "\n",
        "\n",
        "# Example usage\n",
        "input_string = input(\"Enter a comma-separated sequence of words: \")\n",
        "print(sort_substrings_alphabetically(input_string))\n",
        "\n",
        "# Sample Input:\n",
        "# bash\n",
        "# order, hello, would, test\n",
        "# Sample Output:\n",
        "# bash\n",
        "# hello, order, test, would"
      ],
      "metadata": {
        "id": "rePoOJzOSt-T",
        "colab": {
          "base_uri": "https://localhost:8080/"
        },
        "outputId": "09d4f84b-3831-48ec-e229-406aed23131d"
      },
      "execution_count": 91,
      "outputs": [
        {
          "output_type": "stream",
          "name": "stdout",
          "text": [
            "Enter a comma-separated sequence of words: order, hello, would, test\n",
            "hello, order, test, would\n"
          ]
        }
      ]
    },
    {
      "cell_type": "code",
      "source": [
        "# 57. String Manipulation and Palindrome Validation\n",
        "# Step 1: Input Handling\n",
        "input_string = input(\"Enter the string: \")\n",
        "\n",
        "\n",
        "# Step 2: Character Frequency Count\n",
        "char_count = {}\n",
        "for char in input_string:\n",
        "    char_count[char] = char_count.get(char, 0) + 1\n",
        "\n",
        "# Step 3: Determine Odd Count Characters\n",
        "odd_count = sum(1 for count in char_count.values() if count % 2 != 0)\n",
        "\n",
        "# Step 4: Check Palindromic Anagram Possibility\n",
        "can_form_palindrome = odd_count <= 1\n",
        "\n",
        "# Step 5: Output the Result\n",
        "print(\"True\" if can_form_palindrome else \"False\")\n",
        "\n",
        "# Example 1:\n",
        "# Input:\n",
        "# carrace\n",
        "# Output:\n",
        "# True\n",
        "# Explanation:\n",
        "# The string \"carrace\" can be rearranged to form \"racecar\", which is a palindrome.\n",
        "# Example 2:\n",
        "# Input:\n",
        "# idjhfjdh\n",
        "# Output:\n",
        "# False\n"
      ],
      "metadata": {
        "id": "94Az3zbMSuAh",
        "colab": {
          "base_uri": "https://localhost:8080/"
        },
        "outputId": "ac957d05-9ea3-4b4d-80c0-ce42064720eb"
      },
      "execution_count": 92,
      "outputs": [
        {
          "output_type": "stream",
          "name": "stdout",
          "text": [
            "Enter the string: carrace\n",
            "True\n"
          ]
        }
      ]
    },
    {
      "cell_type": "code",
      "source": [
        "# 58. Find the Odd Man Out\n",
        "def find_additional_ids(array_1, array_2):\n",
        "    # Convert the lists to sets and find the difference\n",
        "    additional_ids = set(array_2) - set(array_1)\n",
        "    # Return the additional IDs as a space-separated string\n",
        "    return \" \".join(map(str, sorted(additional_ids)))\n",
        "\n",
        "\n",
        "# Input handling\n",
        "array_1 = list(map(int, input(\"Enter array_1 (space-separated): \").split()))\n",
        "array_2 = list(map(int, input(\"Enter array_2 (space-separated): \").split()))\n",
        "\n",
        "\n",
        "# Call the function and print the result\n",
        "print(find_additional_ids(array_1, array_2))\n",
        "\n",
        "# Sample Input 1:\n",
        "# 1 4 7 3\n",
        "# 1 2 3 4 5 6 7\n",
        "\n",
        "# Sample Output 1:\n",
        "# 2 5 6"
      ],
      "metadata": {
        "id": "BUraxd3eLL-Y",
        "colab": {
          "base_uri": "https://localhost:8080/"
        },
        "outputId": "ee722264-6d99-4b1c-eb79-224933d6f2e6"
      },
      "execution_count": 93,
      "outputs": [
        {
          "output_type": "stream",
          "name": "stdout",
          "text": [
            "Enter array_1 (space-separated): 1 4 7 3\n",
            "Enter array_2 (space-separated): 1 2 3 4 5 6 7\n",
            "2 5 6\n"
          ]
        }
      ]
    },
    {
      "cell_type": "code",
      "source": [
        "# 59. String Motor\n",
        "def string_motor(S: str, K: int) -> str:\n",
        "    # Perform the rotation\n",
        "    return S[K:] + S[:K]\n",
        "\n",
        "# Test the function\n",
        "S = \"doselect\"\n",
        "K = 2\n",
        "print(string_motor(S, K))  # Output: \"selectdo\"\n",
        "\n",
        "# Example:\n",
        "# # Input\n",
        "# S = \"doselect\"\n",
        "# K = 2\n",
        "# # Output\n",
        "# \"selectdo\""
      ],
      "metadata": {
        "id": "2hc_Hx5RLMBf",
        "colab": {
          "base_uri": "https://localhost:8080/"
        },
        "outputId": "4b63ac74-2c70-411e-c93f-41bf3b5884df"
      },
      "execution_count": 95,
      "outputs": [
        {
          "output_type": "stream",
          "name": "stdout",
          "text": [
            "selectdo\n"
          ]
        }
      ]
    },
    {
      "cell_type": "code",
      "source": [
        "# 60. Filter Words\n",
        "def greaterLength(words: list, N: int) -> list:\n",
        "    # Filter words whose lengths are greater than N\n",
        "    return [word for word in words if len(word) > N]\n",
        "\n",
        "# Test the function\n",
        "if __name__ == \"__main__\":\n",
        "    # Sample input\n",
        "    N = 4\n",
        "    words = [\"doselect\", \"do\", \"problem\", \"than\"]\n",
        "\n",
        "    # Output the result\n",
        "    result = greaterLength(words, N)\n",
        "    print(result)  #Expected Output: [\"doselect\", \"problem\"]"
      ],
      "metadata": {
        "id": "Ykjlh0vYLMDI",
        "colab": {
          "base_uri": "https://localhost:8080/"
        },
        "outputId": "5a9b6a74-8836-4b2f-d188-6a33c140339f"
      },
      "execution_count": 96,
      "outputs": [
        {
          "output_type": "stream",
          "name": "stdout",
          "text": [
            "['doselect', 'problem']\n"
          ]
        }
      ]
    }
  ],
  "metadata": {
    "colab": {
      "provenance": [],
      "authorship_tag": "ABX9TyPVEm/2Oc/VqoVI/HGmeO4i",
      "include_colab_link": true
    },
    "kernelspec": {
      "display_name": "Python 3",
      "name": "python3"
    },
    "language_info": {
      "name": "python"
    }
  },
  "nbformat": 4,
  "nbformat_minor": 0
}