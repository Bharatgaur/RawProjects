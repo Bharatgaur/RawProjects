{
  "cells": [
    {
      "cell_type": "markdown",
      "metadata": {
        "id": "view-in-github",
        "colab_type": "text"
      },
      "source": [
        "<a href=\"https://colab.research.google.com/github/Bharatgaur/RawProjects/blob/main/Python_Numpy_Full_Tutorial_For_Beginners.ipynb\" target=\"_parent\"><img src=\"https://colab.research.google.com/assets/colab-badge.svg\" alt=\"Open In Colab\"/></a>"
      ]
    },
    {
      "cell_type": "markdown",
      "source": [
        "Tutorials\n",
        "\n",
        "https://youtu.be/-TYSM0CDA4c?si=jlIhoOBrnxMSLLN2"
      ],
      "metadata": {
        "id": "2iv37gxoICd3"
      }
    },
    {
      "cell_type": "code",
      "source": [
        "# ARRAY\n",
        "\n",
        "import numpy as np\n",
        "x = [1,2,3,4,5]\n",
        "y = np.array(x)\n",
        "print(y)\n",
        "print(type(y))\n",
        "y"
      ],
      "metadata": {
        "colab": {
          "base_uri": "https://localhost:8080/"
        },
        "id": "_I7cnVbrH2h1",
        "outputId": "03fa7fb7-40af-4179-f3cd-a111a19c3442"
      },
      "execution_count": 4,
      "outputs": [
        {
          "output_type": "stream",
          "name": "stdout",
          "text": [
            "[1 2 3 4 5]\n",
            "<class 'numpy.ndarray'>\n"
          ]
        },
        {
          "output_type": "execute_result",
          "data": {
            "text/plain": [
              "array([1, 2, 3, 4, 5])"
            ]
          },
          "metadata": {},
          "execution_count": 4
        }
      ]
    },
    {
      "cell_type": "code",
      "source": [
        "l = []\n",
        "\n",
        "for i in range(1,5):\n",
        "  int_1 = int(input(\"enter: \"))\n",
        "  l.append(int_1)\n",
        "\n",
        "print(np.array(l))"
      ],
      "metadata": {
        "colab": {
          "base_uri": "https://localhost:8080/"
        },
        "id": "rr8DVgMpIg2F",
        "outputId": "cdbaf39a-30e0-46ed-8644-eb0b095648d9"
      },
      "execution_count": 6,
      "outputs": [
        {
          "output_type": "stream",
          "name": "stdout",
          "text": [
            "enter: 12\n",
            "enter: 13\n",
            "enter: 14\n",
            "enter: 15\n",
            "[12 13 14 15]\n"
          ]
        }
      ]
    },
    {
      "cell_type": "markdown",
      "source": [
        "Dimension in Arrays\n",
        "\n",
        "1-D Array   [ ]\n",
        "\n",
        "2-D Array [[ ]]\n",
        "\n",
        "3-D Array  [[[  ]]]\n",
        "\n",
        "Higher Dimensional Arrays"
      ],
      "metadata": {
        "id": "uUkcm2nQJ2E3"
      }
    },
    {
      "cell_type": "code",
      "source": [
        "import numpy as np\n",
        "x = [1,2,3,4,5]\n",
        "y = np.array(x)\n",
        "print(y)\n",
        "print(type(y))\n",
        "print(y.ndim)"
      ],
      "metadata": {
        "colab": {
          "base_uri": "https://localhost:8080/"
        },
        "id": "wd_OuL-SJS9O",
        "outputId": "2f401c46-124f-41c7-9bbf-95aa8369a43d"
      },
      "execution_count": 7,
      "outputs": [
        {
          "output_type": "stream",
          "name": "stdout",
          "text": [
            "[1 2 3 4 5]\n",
            "<class 'numpy.ndarray'>\n",
            "1\n"
          ]
        }
      ]
    },
    {
      "cell_type": "code",
      "source": [
        "ar2 = np.array([[1,2,3,4],[1,2,3,4]])\n",
        "print(ar2)\n",
        "print(ar2.ndim)"
      ],
      "metadata": {
        "colab": {
          "base_uri": "https://localhost:8080/"
        },
        "id": "-hcxGNCXKjJn",
        "outputId": "fd88f4aa-d0c7-4462-b0f5-f8d5c272dda4"
      },
      "execution_count": 8,
      "outputs": [
        {
          "output_type": "stream",
          "name": "stdout",
          "text": [
            "[[1 2 3 4]\n",
            " [1 2 3 4]]\n",
            "2\n"
          ]
        }
      ]
    },
    {
      "cell_type": "code",
      "source": [
        "ar2 = np.array([[1,2,3,4],[1,2,3]])\n",
        "print(ar2)\n",
        "print(ar2.ndim)"
      ],
      "metadata": {
        "colab": {
          "base_uri": "https://localhost:8080/",
          "height": 193
        },
        "id": "66E22OiBK34L",
        "outputId": "58f35ce5-ee8c-4a38-c483-3674d156df79"
      },
      "execution_count": 9,
      "outputs": [
        {
          "output_type": "error",
          "ename": "ValueError",
          "evalue": "setting an array element with a sequence. The requested array has an inhomogeneous shape after 1 dimensions. The detected shape was (2,) + inhomogeneous part.",
          "traceback": [
            "\u001b[0;31m---------------------------------------------------------------------------\u001b[0m",
            "\u001b[0;31mValueError\u001b[0m                                Traceback (most recent call last)",
            "\u001b[0;32m<ipython-input-9-aca0d2cb8808>\u001b[0m in \u001b[0;36m<cell line: 1>\u001b[0;34m()\u001b[0m\n\u001b[0;32m----> 1\u001b[0;31m \u001b[0mar2\u001b[0m \u001b[0;34m=\u001b[0m \u001b[0mnp\u001b[0m\u001b[0;34m.\u001b[0m\u001b[0marray\u001b[0m\u001b[0;34m(\u001b[0m\u001b[0;34m[\u001b[0m\u001b[0;34m[\u001b[0m\u001b[0;36m1\u001b[0m\u001b[0;34m,\u001b[0m\u001b[0;36m2\u001b[0m\u001b[0;34m,\u001b[0m\u001b[0;36m3\u001b[0m\u001b[0;34m,\u001b[0m\u001b[0;36m4\u001b[0m\u001b[0;34m]\u001b[0m\u001b[0;34m,\u001b[0m\u001b[0;34m[\u001b[0m\u001b[0;36m1\u001b[0m\u001b[0;34m,\u001b[0m\u001b[0;36m2\u001b[0m\u001b[0;34m,\u001b[0m\u001b[0;36m3\u001b[0m\u001b[0;34m]\u001b[0m\u001b[0;34m]\u001b[0m\u001b[0;34m)\u001b[0m\u001b[0;34m\u001b[0m\u001b[0;34m\u001b[0m\u001b[0m\n\u001b[0m\u001b[1;32m      2\u001b[0m \u001b[0mprint\u001b[0m\u001b[0;34m(\u001b[0m\u001b[0mar2\u001b[0m\u001b[0;34m)\u001b[0m\u001b[0;34m\u001b[0m\u001b[0;34m\u001b[0m\u001b[0m\n\u001b[1;32m      3\u001b[0m \u001b[0mprint\u001b[0m\u001b[0;34m(\u001b[0m\u001b[0mar2\u001b[0m\u001b[0;34m.\u001b[0m\u001b[0mndim\u001b[0m\u001b[0;34m)\u001b[0m\u001b[0;34m\u001b[0m\u001b[0;34m\u001b[0m\u001b[0m\n",
            "\u001b[0;31mValueError\u001b[0m: setting an array element with a sequence. The requested array has an inhomogeneous shape after 1 dimensions. The detected shape was (2,) + inhomogeneous part."
          ]
        }
      ]
    },
    {
      "cell_type": "code",
      "source": [
        "ar3 =np.array([[[1,2,3,4],[1,2,3,4],[1,2,3,4]]])\n",
        "print(ar3)\n",
        "print(ar3.ndim)"
      ],
      "metadata": {
        "colab": {
          "base_uri": "https://localhost:8080/"
        },
        "id": "CYMN0x3CLC8U",
        "outputId": "8080c76f-e189-4d49-a5e0-c6a7d92a99a2"
      },
      "execution_count": 10,
      "outputs": [
        {
          "output_type": "stream",
          "name": "stdout",
          "text": [
            "[[[1 2 3 4]\n",
            "  [1 2 3 4]\n",
            "  [1 2 3 4]]]\n",
            "3\n"
          ]
        }
      ]
    },
    {
      "cell_type": "code",
      "source": [
        "arn = np.array([1,2,3,4],ndmin = 10)\n",
        "print(arn)\n",
        "print(arn.ndim)"
      ],
      "metadata": {
        "colab": {
          "base_uri": "https://localhost:8080/"
        },
        "id": "HH62LBoiLTG0",
        "outputId": "f9753911-824b-4984-def3-97158dd5a755"
      },
      "execution_count": 11,
      "outputs": [
        {
          "output_type": "stream",
          "name": "stdout",
          "text": [
            "[[[[[[[[[[1 2 3 4]]]]]]]]]]\n",
            "10\n"
          ]
        }
      ]
    },
    {
      "cell_type": "markdown",
      "source": [
        "Create Numpy Array Using Numpy Functions"
      ],
      "metadata": {
        "id": "zAbcJ0JuLzgT"
      }
    },
    {
      "cell_type": "code",
      "source": [
        "# zeros arrays\n",
        "\n",
        "import numpy as np\n",
        "ar_zero = np.zeros(4)\n",
        "print(ar_zero)"
      ],
      "metadata": {
        "colab": {
          "base_uri": "https://localhost:8080/"
        },
        "id": "vOJU603XLn2i",
        "outputId": "7bbacdc0-99f3-4bc5-fc1e-462088ac63ce"
      },
      "execution_count": 13,
      "outputs": [
        {
          "output_type": "stream",
          "name": "stdout",
          "text": [
            "[0. 0. 0. 0.]\n"
          ]
        }
      ]
    },
    {
      "cell_type": "code",
      "source": [
        "# zeros arrays\n",
        "\n",
        "import numpy as np\n",
        "ar_zero = np.zeros(4)\n",
        "ar_zero1 = np.zeros((3,4))\n",
        "\n",
        "print(ar_zero)\n",
        "print()\n",
        "print(ar_zero1)"
      ],
      "metadata": {
        "colab": {
          "base_uri": "https://localhost:8080/"
        },
        "id": "kNX1NnkbMb7Y",
        "outputId": "2c190ed5-895f-4507-e825-2e23f4cdd5b2"
      },
      "execution_count": 14,
      "outputs": [
        {
          "output_type": "stream",
          "name": "stdout",
          "text": [
            "[0. 0. 0. 0.]\n",
            "\n",
            "[[0. 0. 0. 0.]\n",
            " [0. 0. 0. 0.]\n",
            " [0. 0. 0. 0.]]\n"
          ]
        }
      ]
    },
    {
      "cell_type": "code",
      "source": [
        "# Ones\n",
        "\n",
        "ar_one = np.ones(4)\n",
        "print(ar_one)"
      ],
      "metadata": {
        "colab": {
          "base_uri": "https://localhost:8080/"
        },
        "id": "60trYWw4Mwxe",
        "outputId": "c522d5ca-c035-4ea8-832b-8f0d9c1efb53"
      },
      "execution_count": 15,
      "outputs": [
        {
          "output_type": "stream",
          "name": "stdout",
          "text": [
            "[1. 1. 1. 1.]\n"
          ]
        }
      ]
    },
    {
      "cell_type": "code",
      "source": [
        "# Empty array\n",
        "# previous array ka data empty array main chala jata hai\n",
        "ar_em = np.empty(4)\n",
        "print(ar_em)"
      ],
      "metadata": {
        "colab": {
          "base_uri": "https://localhost:8080/"
        },
        "id": "VM258yZQNE4X",
        "outputId": "56a6423b-63c2-494a-db4a-26da72d006a8"
      },
      "execution_count": 17,
      "outputs": [
        {
          "output_type": "stream",
          "name": "stdout",
          "text": [
            "[1. 1. 1. 1.]\n"
          ]
        }
      ]
    },
    {
      "cell_type": "code",
      "source": [
        "# range\n",
        "ar_rn = np.arange(4)\n",
        "print(ar_rn)"
      ],
      "metadata": {
        "colab": {
          "base_uri": "https://localhost:8080/"
        },
        "id": "xJicgpdiNVUC",
        "outputId": "d4f09568-7cd5-42e1-a19d-9fbb8302bb95"
      },
      "execution_count": 18,
      "outputs": [
        {
          "output_type": "stream",
          "name": "stdout",
          "text": [
            "[0 1 2 3]\n"
          ]
        }
      ]
    },
    {
      "cell_type": "code",
      "source": [
        "# Diagonal\n",
        "\n",
        "ar_dia = np.eye(3)\n",
        "print(ar_dia)"
      ],
      "metadata": {
        "colab": {
          "base_uri": "https://localhost:8080/"
        },
        "id": "0Odiq_rhNs64",
        "outputId": "3e88d78c-0d37-476b-fba2-fa2247e33e5f"
      },
      "execution_count": 19,
      "outputs": [
        {
          "output_type": "stream",
          "name": "stdout",
          "text": [
            "[[1. 0. 0.]\n",
            " [0. 1. 0.]\n",
            " [0. 0. 1.]]\n"
          ]
        }
      ]
    },
    {
      "cell_type": "code",
      "source": [
        "ar_dia = np.eye(3,5)\n",
        "print(ar_dia)"
      ],
      "metadata": {
        "colab": {
          "base_uri": "https://localhost:8080/"
        },
        "id": "TXsvJIijOG-y",
        "outputId": "dedaf5ab-1b3e-4ad0-ebd8-0f659171ce35"
      },
      "execution_count": 20,
      "outputs": [
        {
          "output_type": "stream",
          "name": "stdout",
          "text": [
            "[[1. 0. 0. 0. 0.]\n",
            " [0. 1. 0. 0. 0.]\n",
            " [0. 0. 1. 0. 0.]]\n"
          ]
        }
      ]
    },
    {
      "cell_type": "code",
      "source": [
        "ar_dia = np.eye(5,5)\n",
        "print(ar_dia)"
      ],
      "metadata": {
        "colab": {
          "base_uri": "https://localhost:8080/"
        },
        "id": "j_zu63jZObOo",
        "outputId": "4c3c848a-f2d5-4193-c474-29aa16e74240"
      },
      "execution_count": 21,
      "outputs": [
        {
          "output_type": "stream",
          "name": "stdout",
          "text": [
            "[[1. 0. 0. 0. 0.]\n",
            " [0. 1. 0. 0. 0.]\n",
            " [0. 0. 1. 0. 0.]\n",
            " [0. 0. 0. 1. 0.]\n",
            " [0. 0. 0. 0. 1.]]\n"
          ]
        }
      ]
    },
    {
      "cell_type": "code",
      "source": [
        "# linspace\n",
        "ar_lin = np.linspace(1,10, num=5)\n",
        "print(ar_lin)"
      ],
      "metadata": {
        "colab": {
          "base_uri": "https://localhost:8080/"
        },
        "id": "wR3aPP4zOiNN",
        "outputId": "eabb01f9-a964-40d4-df40-64882e5ddb54"
      },
      "execution_count": 22,
      "outputs": [
        {
          "output_type": "stream",
          "name": "stdout",
          "text": [
            "[ 1.    3.25  5.5   7.75 10.  ]\n"
          ]
        }
      ]
    },
    {
      "cell_type": "code",
      "source": [
        "ar_lin = np.linspace(0,10, num=5)\n",
        "print(ar_lin)"
      ],
      "metadata": {
        "colab": {
          "base_uri": "https://localhost:8080/"
        },
        "id": "BHEN9AovOy_y",
        "outputId": "e93b8b54-ba25-469d-b391-de7cad74cc0b"
      },
      "execution_count": 23,
      "outputs": [
        {
          "output_type": "stream",
          "name": "stdout",
          "text": [
            "[ 0.   2.5  5.   7.5 10. ]\n"
          ]
        }
      ]
    },
    {
      "cell_type": "code",
      "source": [
        "ar_lin = np.linspace(0,20, num=5)\n",
        "print(ar_lin)"
      ],
      "metadata": {
        "colab": {
          "base_uri": "https://localhost:8080/"
        },
        "id": "mFx8yquiO9-5",
        "outputId": "f569b688-c442-4ebd-f08e-206f37043952"
      },
      "execution_count": 24,
      "outputs": [
        {
          "output_type": "stream",
          "name": "stdout",
          "text": [
            "[ 0.  5. 10. 15. 20.]\n"
          ]
        }
      ]
    },
    {
      "cell_type": "code",
      "source": [
        "ar_lin = np.linspace(0,20, num=4)\n",
        "print(ar_lin)"
      ],
      "metadata": {
        "colab": {
          "base_uri": "https://localhost:8080/"
        },
        "id": "4BGLEvHtPB8F",
        "outputId": "a9330315-549e-44ab-b2ab-532b677fb28e"
      },
      "execution_count": 25,
      "outputs": [
        {
          "output_type": "stream",
          "name": "stdout",
          "text": [
            "[ 0.          6.66666667 13.33333333 20.        ]\n"
          ]
        }
      ]
    },
    {
      "cell_type": "code",
      "source": [
        "ar_lin = np.linspace(0,30, num=5)\n",
        "print(ar_lin)"
      ],
      "metadata": {
        "colab": {
          "base_uri": "https://localhost:8080/"
        },
        "id": "S6AP_wBqPFqD",
        "outputId": "76ff4329-f8fd-4e7f-9d94-516edaf701d5"
      },
      "execution_count": 27,
      "outputs": [
        {
          "output_type": "stream",
          "name": "stdout",
          "text": [
            "[ 0.   7.5 15.  22.5 30. ]\n"
          ]
        }
      ]
    },
    {
      "cell_type": "markdown",
      "source": [
        "Creating Numpy Arrays with Random Numbers"
      ],
      "metadata": {
        "id": "IR9tXbbDPb2_"
      }
    },
    {
      "cell_type": "markdown",
      "source": [
        "- `rand()`: Generates random numbers from a uniform distribution between 0 and 1.\n",
        "\n",
        "- `randn()`: Generates random numbers from a standard normal distribution (mean 0, standard deviation 1).\n",
        "\n",
        "- `ranf()`: An alias for `rand()`, also generates random numbers from a uniform distribution between 0 and 1.\n",
        "\n",
        "- `randint()`: Generates random integers from a specified range, including both endpoints."
      ],
      "metadata": {
        "id": "0XMkUDc8RC9b"
      }
    },
    {
      "cell_type": "code",
      "source": [
        "# Random\n",
        "# rand()\n",
        "\n",
        "import numpy as np\n",
        "\n",
        "var = np.random.rand(4)\n",
        "print(var)"
      ],
      "metadata": {
        "colab": {
          "base_uri": "https://localhost:8080/"
        },
        "id": "QeUDbU0JPPrn",
        "outputId": "e3c29e98-a5d9-459e-d33c-72cea2073a83"
      },
      "execution_count": 28,
      "outputs": [
        {
          "output_type": "stream",
          "name": "stdout",
          "text": [
            "[0.11621977 0.39879611 0.66416386 0.6145468 ]\n"
          ]
        }
      ]
    },
    {
      "cell_type": "code",
      "source": [
        "var1 = np.random.rand(2,5)\n",
        "print(var1)"
      ],
      "metadata": {
        "colab": {
          "base_uri": "https://localhost:8080/"
        },
        "id": "ienGM3BpQJUQ",
        "outputId": "423dceb7-3d2e-4e61-9155-4623cdfad456"
      },
      "execution_count": 29,
      "outputs": [
        {
          "output_type": "stream",
          "name": "stdout",
          "text": [
            "[[0.38970435 0.98695753 0.7309118  0.53591511 0.13804834]\n",
            " [0.54921271 0.08553459 0.23735297 0.72013976 0.07832975]]\n"
          ]
        }
      ]
    },
    {
      "cell_type": "code",
      "source": [
        "# randn()\n",
        "\n",
        "var2 = np.random.randn(5)\n",
        "print(var2)"
      ],
      "metadata": {
        "colab": {
          "base_uri": "https://localhost:8080/"
        },
        "id": "nGH81hqQQh_p",
        "outputId": "2582cd38-02d2-47c0-820d-ba8a902ffa93"
      },
      "execution_count": 31,
      "outputs": [
        {
          "output_type": "stream",
          "name": "stdout",
          "text": [
            "[-0.52779674  1.29337706 -0.00357057  0.11478954 -0.25509713]\n"
          ]
        }
      ]
    },
    {
      "cell_type": "code",
      "source": [
        "# randf()\n",
        "var3 = np.random.ranf(4)\n",
        "print(var3)"
      ],
      "metadata": {
        "colab": {
          "base_uri": "https://localhost:8080/"
        },
        "id": "VzngJppjRckI",
        "outputId": "8127e6b8-f336-451b-9c7d-1294fbb3b9ed"
      },
      "execution_count": 32,
      "outputs": [
        {
          "output_type": "stream",
          "name": "stdout",
          "text": [
            "[0.15731642 0.37423533 0.29263192 0.95333218]\n"
          ]
        }
      ]
    },
    {
      "cell_type": "code",
      "source": [
        "# randint min value, maximum value\n",
        "# var4 = np.random.randint(min,max, total_values)\n",
        "var4 = np.random.randint(5,20,5)\n",
        "print(var4)\n"
      ],
      "metadata": {
        "colab": {
          "base_uri": "https://localhost:8080/"
        },
        "id": "Yay2drDRRuSi",
        "outputId": "67d5819f-17f9-4915-cc8e-bb062ba0a1a0"
      },
      "execution_count": 34,
      "outputs": [
        {
          "output_type": "stream",
          "name": "stdout",
          "text": [
            "[ 5 19 12 12 14]\n"
          ]
        }
      ]
    },
    {
      "cell_type": "markdown",
      "source": [
        "Data Types in Numpy Array"
      ],
      "metadata": {
        "id": "UMnbUUziYJHz"
      }
    },
    {
      "cell_type": "code",
      "source": [],
      "metadata": {
        "id": "4HGRlUY_STlr"
      },
      "execution_count": 34,
      "outputs": []
    }
  ],
  "metadata": {
    "colab": {
      "provenance": [],
      "authorship_tag": "ABX9TyMfrNYLJP327SDd1kJpE54s",
      "include_colab_link": true
    },
    "kernelspec": {
      "display_name": "Python 3",
      "name": "python3"
    },
    "language_info": {
      "name": "python"
    }
  },
  "nbformat": 4,
  "nbformat_minor": 0
}