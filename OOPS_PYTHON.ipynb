{
  "cells": [
    {
      "cell_type": "markdown",
      "metadata": {
        "id": "view-in-github",
        "colab_type": "text"
      },
      "source": [
        "<a href=\"https://colab.research.google.com/github/Bharatgaur/RawProjects/blob/main/OOPS_PYTHON.ipynb\" target=\"_parent\"><img src=\"https://colab.research.google.com/assets/colab-badge.svg\" alt=\"Open In Colab\"/></a>"
      ]
    },
    {
      "cell_type": "markdown",
      "source": [
        "Video Link\n",
        "\n",
        "https://youtu.be/Uo6PpmDuBUU?si=xZbRkjrbaVWxBJj6"
      ],
      "metadata": {
        "id": "rsDJEfpzGfFy"
      }
    },
    {
      "cell_type": "code",
      "source": [
        "class Phone():\n",
        "  def make_call(self):\n",
        "    print(\"I am making a call\")\n",
        "  def play_game(self):\n",
        "    print(\"I am playing a game\")\n"
      ],
      "metadata": {
        "id": "Puj0kS4cvkjy"
      },
      "execution_count": 3,
      "outputs": []
    },
    {
      "cell_type": "code",
      "source": [
        "p1= Phone()"
      ],
      "metadata": {
        "id": "mER-r4SowCC8"
      },
      "execution_count": 4,
      "outputs": []
    },
    {
      "cell_type": "code",
      "source": [
        "p1.make_call()"
      ],
      "metadata": {
        "colab": {
          "base_uri": "https://localhost:8080/"
        },
        "id": "aCiV1vk5wKqC",
        "outputId": "01f7fab9-dbf3-410c-c45a-6d1520401306"
      },
      "execution_count": 5,
      "outputs": [
        {
          "output_type": "stream",
          "name": "stdout",
          "text": [
            "I am making a call\n"
          ]
        }
      ]
    },
    {
      "cell_type": "code",
      "source": [
        "p1.play_game()"
      ],
      "metadata": {
        "colab": {
          "base_uri": "https://localhost:8080/"
        },
        "id": "VTTpQIFkwYKM",
        "outputId": "55336755-9d00-4aa6-abda-52f14c0fe780"
      },
      "execution_count": 7,
      "outputs": [
        {
          "output_type": "stream",
          "name": "stdout",
          "text": [
            "I am playing a game\n"
          ]
        }
      ]
    },
    {
      "cell_type": "code",
      "source": [
        "class Phone():\n",
        "  def set_color(self, color):\n",
        "    self.color = color\n",
        "\n",
        "  def set_cost(self, cost):\n",
        "    self.cost = cost\n",
        "\n",
        "  def show_color(self):\n",
        "    return self.color\n",
        "\n",
        "  def show_cost(self):\n",
        "    return self.cost\n",
        "\n",
        "  def make_call(self):\n",
        "    print(\"Making a call\")\n",
        "\n",
        "  def play_game(self):\n",
        "    print(\"playing game\")"
      ],
      "metadata": {
        "id": "vguf3nYgwcmW"
      },
      "execution_count": 8,
      "outputs": []
    },
    {
      "cell_type": "code",
      "source": [
        "p2 = Phone()"
      ],
      "metadata": {
        "id": "pTDTohEsxo3D"
      },
      "execution_count": 9,
      "outputs": []
    },
    {
      "cell_type": "code",
      "source": [
        "p2.set_color('Blue')"
      ],
      "metadata": {
        "id": "haRQQzNZya4E"
      },
      "execution_count": 10,
      "outputs": []
    },
    {
      "cell_type": "code",
      "source": [
        "p2.set_cost(5000)"
      ],
      "metadata": {
        "id": "JMBU2OPnyfjY"
      },
      "execution_count": 11,
      "outputs": []
    },
    {
      "cell_type": "code",
      "source": [
        "p2.show_cost()"
      ],
      "metadata": {
        "colab": {
          "base_uri": "https://localhost:8080/"
        },
        "id": "-2hxP1nRymrA",
        "outputId": "b2d15692-053e-4cfb-b17e-ebd0763464aa"
      },
      "execution_count": 12,
      "outputs": [
        {
          "output_type": "execute_result",
          "data": {
            "text/plain": [
              "5000"
            ]
          },
          "metadata": {},
          "execution_count": 12
        }
      ]
    },
    {
      "cell_type": "code",
      "source": [
        "p2.show_color()"
      ],
      "metadata": {
        "colab": {
          "base_uri": "https://localhost:8080/",
          "height": 36
        },
        "id": "sBbqU9Gtyq2Q",
        "outputId": "cd911fd1-091a-4ae1-b501-86e76b007249"
      },
      "execution_count": 13,
      "outputs": [
        {
          "output_type": "execute_result",
          "data": {
            "text/plain": [
              "'Blue'"
            ],
            "application/vnd.google.colaboratory.intrinsic+json": {
              "type": "string"
            }
          },
          "metadata": {},
          "execution_count": 13
        }
      ]
    },
    {
      "cell_type": "code",
      "source": [
        "p2.make_call()"
      ],
      "metadata": {
        "colab": {
          "base_uri": "https://localhost:8080/"
        },
        "id": "n4VO8EUsytk-",
        "outputId": "00cb8409-73fb-4dbe-ea39-76af300ff314"
      },
      "execution_count": 14,
      "outputs": [
        {
          "output_type": "stream",
          "name": "stdout",
          "text": [
            "Making a call\n"
          ]
        }
      ]
    },
    {
      "cell_type": "code",
      "source": [
        "p2.play_game()"
      ],
      "metadata": {
        "colab": {
          "base_uri": "https://localhost:8080/"
        },
        "id": "Vc2hGFeayyKA",
        "outputId": "c69f472e-59a7-4dfc-c708-b50c81561438"
      },
      "execution_count": 15,
      "outputs": [
        {
          "output_type": "stream",
          "name": "stdout",
          "text": [
            "playing game\n"
          ]
        }
      ]
    },
    {
      "cell_type": "code",
      "source": [
        "# constroctor __init__\n",
        "\n",
        "class Employee:\n",
        "  def __init__(self, name, age, salary, gender):\n",
        "    self.name = name\n",
        "    self.age = age\n",
        "    self.salary = salary\n",
        "    self.gender = gender\n",
        "\n",
        "\n",
        "  def employee_details(self):\n",
        "    print(\"Name of employee is \", self.name)\n",
        "    print(\"Age of the employee is \", self.age)\n",
        "    print(\"Salary of the employee is \", self.salary)\n",
        "    print(\"Gendwr of the employee is \", self.gender)"
      ],
      "metadata": {
        "id": "SUKQXinJy3B7"
      },
      "execution_count": 19,
      "outputs": []
    },
    {
      "cell_type": "code",
      "source": [
        "e1 = Employee('sam', 32, 85000, 'Male')"
      ],
      "metadata": {
        "id": "kxHo3OxAz4VU"
      },
      "execution_count": 20,
      "outputs": []
    },
    {
      "cell_type": "code",
      "source": [
        "e1.employee_details()"
      ],
      "metadata": {
        "colab": {
          "base_uri": "https://localhost:8080/"
        },
        "id": "Gc6Ngzlz0EDb",
        "outputId": "721e6973-d4ae-4af9-d0c3-47511cac3cd8"
      },
      "execution_count": 21,
      "outputs": [
        {
          "output_type": "stream",
          "name": "stdout",
          "text": [
            "Name of employee is  sam\n",
            "Age of the employee is  32\n",
            "Salary of the employee is  85000\n",
            "Gendwr of the employee is  Male\n"
          ]
        }
      ]
    },
    {
      "cell_type": "code",
      "source": [
        "# inheritance\n",
        "# with inheritance one class can derive the properties of another class\n",
        "class Vehicle:\n",
        "  def __init__(self, mileage, cost):\n",
        "    self.mileage = mileage\n",
        "    self.cost = cost\n",
        "\n",
        "  def show_vehicle_details(self):\n",
        "    print(\"Mileagle of vehicle is \", self.mileage)\n",
        "    print(\"cost of vehicle is \", self.cost)\n",
        "    print(\"I am a vehicle\")"
      ],
      "metadata": {
        "id": "ILp6dRjo0Hws"
      },
      "execution_count": 22,
      "outputs": []
    },
    {
      "cell_type": "code",
      "source": [
        "v1 = Vehicle(30, 760000)"
      ],
      "metadata": {
        "id": "jOKxM_v73Pvg"
      },
      "execution_count": 23,
      "outputs": []
    },
    {
      "cell_type": "code",
      "source": [
        "v1.show_vehicle_details()"
      ],
      "metadata": {
        "colab": {
          "base_uri": "https://localhost:8080/"
        },
        "id": "5ls2eYi53Y8b",
        "outputId": "6384f8ec-bb27-4ab1-b036-fbfa39eae1ca"
      },
      "execution_count": 24,
      "outputs": [
        {
          "output_type": "stream",
          "name": "stdout",
          "text": [
            "Mileagle of vehicle is  30\n",
            "cost of vehicle is  760000\n",
            "I am a vehicle\n"
          ]
        }
      ]
    },
    {
      "cell_type": "code",
      "source": [
        "class car(Vehicle):\n",
        "  def show_car_details(self):\n",
        "    print(\"I am a car\")"
      ],
      "metadata": {
        "id": "htSV3dRD3bxc"
      },
      "execution_count": 25,
      "outputs": []
    },
    {
      "cell_type": "code",
      "source": [
        "c1 = car(250, 800)"
      ],
      "metadata": {
        "id": "cxZY4fkO3uqB"
      },
      "execution_count": 26,
      "outputs": []
    },
    {
      "cell_type": "code",
      "source": [
        "c1.show_vehicle_details()"
      ],
      "metadata": {
        "colab": {
          "base_uri": "https://localhost:8080/"
        },
        "id": "vPE1tWv63y4B",
        "outputId": "9c448a49-02de-416d-c963-ebfb4d639e7c"
      },
      "execution_count": 27,
      "outputs": [
        {
          "output_type": "stream",
          "name": "stdout",
          "text": [
            "Mileagle of vehicle is  250\n",
            "cost of vehicle is  800\n",
            "I am a vehicle\n"
          ]
        }
      ]
    },
    {
      "cell_type": "code",
      "source": [
        "c1.show_car_details()"
      ],
      "metadata": {
        "colab": {
          "base_uri": "https://localhost:8080/"
        },
        "id": "7srZFM_233r_",
        "outputId": "20221e2d-0500-4158-a3ee-a78e5a44b766"
      },
      "execution_count": 28,
      "outputs": [
        {
          "output_type": "stream",
          "name": "stdout",
          "text": [
            "I am a car\n"
          ]
        }
      ]
    },
    {
      "cell_type": "code",
      "source": [
        "# inheritance\n",
        "# with inheritance one class can derive the properties of another class\n",
        "class Vehicle:\n",
        "  def __init__(self, mileage, cost):\n",
        "    self.mileage = mileage\n",
        "    self.cost = cost\n",
        "\n",
        "  def show_vehicle_details(self):\n",
        "    print(\"Mileagle of vehicle is \", self.mileage)\n",
        "    print(\"cost of vehicle is \", self.cost)\n",
        "    print(\"I am a vehicle\")"
      ],
      "metadata": {
        "id": "HUO7X8ZH3-OV"
      },
      "execution_count": 40,
      "outputs": []
    },
    {
      "cell_type": "code",
      "source": [
        "v1 = Vehicle(30, 760000)"
      ],
      "metadata": {
        "id": "tCRW3fZu5Wgd"
      },
      "execution_count": 41,
      "outputs": []
    },
    {
      "cell_type": "code",
      "source": [
        "class Car(Vehicle):\n",
        "  def __init__(self, mileage, cost, tyres, hp):\n",
        "    super().__init__(mileage, cost)\n",
        "    self.tyres = tyres\n",
        "    self.hp = hp\n",
        "\n",
        "\n",
        "  def show_car_details(self):\n",
        "    print(\"Number of tyres in car: \", self.tyres)\n",
        "    print(\"Horese power of car is : \", self.hp)\n",
        "    print(\"i am a car\")"
      ],
      "metadata": {
        "id": "JyYtvWCU5Zt6"
      },
      "execution_count": 42,
      "outputs": []
    },
    {
      "cell_type": "code",
      "source": [
        "c1 = Car(600, 1000000000, 8, 999)"
      ],
      "metadata": {
        "id": "wDYuP_vL6bCa"
      },
      "execution_count": 43,
      "outputs": []
    },
    {
      "cell_type": "code",
      "source": [
        "c1.show_car_details()"
      ],
      "metadata": {
        "colab": {
          "base_uri": "https://localhost:8080/"
        },
        "id": "CldoczML6nte",
        "outputId": "d2647800-0150-43e4-e57c-2275ca625b50"
      },
      "execution_count": 44,
      "outputs": [
        {
          "output_type": "stream",
          "name": "stdout",
          "text": [
            "Number of tyres in car:  8\n",
            "Horese power of car is :  999\n",
            "i am a car\n"
          ]
        }
      ]
    },
    {
      "cell_type": "code",
      "source": [
        "c1.show_vehicle_details()"
      ],
      "metadata": {
        "colab": {
          "base_uri": "https://localhost:8080/"
        },
        "id": "8-1ygv_n8Ujk",
        "outputId": "afbbff05-df25-4633-c688-f4f672b14b7f"
      },
      "execution_count": 45,
      "outputs": [
        {
          "output_type": "stream",
          "name": "stdout",
          "text": [
            "Mileagle of vehicle is  600\n",
            "cost of vehicle is  1000000000\n",
            "I am a vehicle\n"
          ]
        }
      ]
    },
    {
      "cell_type": "code",
      "source": [
        "# multple inheritence\n",
        "# Paresnt1\n",
        "class Parent1():\n",
        "  def assign_string_one(self,str1):\n",
        "    self.str1 = str1\n",
        "\n",
        "  def show_string_one(self):\n",
        "    return self.str1\n"
      ],
      "metadata": {
        "id": "mnzWtWRj8YuP"
      },
      "execution_count": 46,
      "outputs": []
    },
    {
      "cell_type": "code",
      "source": [
        "# Paresnt2\n",
        "class Parent2():\n",
        "  def assign_string_two(self, str2):\n",
        "    self.str2 = str2\n",
        "\n",
        "  def show_string_two(self):\n",
        "    return self.str2"
      ],
      "metadata": {
        "id": "esOSXobhA8wY"
      },
      "execution_count": 48,
      "outputs": []
    },
    {
      "cell_type": "code",
      "source": [
        "# child class\n",
        "class child(Parent1, Parent2):\n",
        "  def assign_string_three(self,str3):\n",
        "    self.str3 = str3\n",
        "\n",
        "  def show_string_trhee(self):\n",
        "    return self.str3"
      ],
      "metadata": {
        "id": "GHD4NV8XBUlU"
      },
      "execution_count": 49,
      "outputs": []
    },
    {
      "cell_type": "code",
      "source": [
        "my_child = child()"
      ],
      "metadata": {
        "id": "P6nJ-1wfB7j8"
      },
      "execution_count": 50,
      "outputs": []
    },
    {
      "cell_type": "code",
      "source": [
        "my_child.assign_string_one(\"one\")\n",
        "my_child.assign_string_two(\"two\")\n",
        "my_child.assign_string_three(\"three\")"
      ],
      "metadata": {
        "id": "ULpzWVreCSln"
      },
      "execution_count": 51,
      "outputs": []
    },
    {
      "cell_type": "code",
      "source": [
        "my_child.show_string_one()"
      ],
      "metadata": {
        "colab": {
          "base_uri": "https://localhost:8080/",
          "height": 36
        },
        "id": "1bRH295GCfZd",
        "outputId": "d445d8f5-bed6-4a7d-ce5a-044496906bbe"
      },
      "execution_count": 52,
      "outputs": [
        {
          "output_type": "execute_result",
          "data": {
            "text/plain": [
              "'one'"
            ],
            "application/vnd.google.colaboratory.intrinsic+json": {
              "type": "string"
            }
          },
          "metadata": {},
          "execution_count": 52
        }
      ]
    },
    {
      "cell_type": "code",
      "source": [
        "my_child.show_string_two()"
      ],
      "metadata": {
        "colab": {
          "base_uri": "https://localhost:8080/",
          "height": 36
        },
        "id": "qhrJQPpeClon",
        "outputId": "f444e653-e2c8-4ccc-fc4a-09e242b26602"
      },
      "execution_count": 53,
      "outputs": [
        {
          "output_type": "execute_result",
          "data": {
            "text/plain": [
              "'two'"
            ],
            "application/vnd.google.colaboratory.intrinsic+json": {
              "type": "string"
            }
          },
          "metadata": {},
          "execution_count": 53
        }
      ]
    },
    {
      "cell_type": "code",
      "source": [
        "my_child.show_string_trhee()"
      ],
      "metadata": {
        "colab": {
          "base_uri": "https://localhost:8080/",
          "height": 36
        },
        "id": "wy5cXg2vCpJw",
        "outputId": "92648414-a2c9-4e7e-a23c-90577519b0d7"
      },
      "execution_count": 54,
      "outputs": [
        {
          "output_type": "execute_result",
          "data": {
            "text/plain": [
              "'three'"
            ],
            "application/vnd.google.colaboratory.intrinsic+json": {
              "type": "string"
            }
          },
          "metadata": {},
          "execution_count": 54
        }
      ]
    },
    {
      "cell_type": "code",
      "source": [
        "# Multi Level Inheritance in Python\n",
        "# Parent class\n",
        "class Parent():\n",
        "  def get_name(self, name):\n",
        "    self.name = name\n",
        "\n",
        "  def show_name(self):\n",
        "    return self.name"
      ],
      "metadata": {
        "id": "pGAVSiQvCr3G"
      },
      "execution_count": 58,
      "outputs": []
    },
    {
      "cell_type": "code",
      "source": [
        "# Child class\n",
        "class Child(Parent):\n",
        "  def get_age(self, age):\n",
        "    self.age = age\n",
        "\n",
        "  def show_age(self):\n",
        "    return self.age"
      ],
      "metadata": {
        "id": "k8n6S4rLEVGJ"
      },
      "execution_count": 59,
      "outputs": []
    },
    {
      "cell_type": "code",
      "source": [
        "# Grand-Child Class\n",
        "class GrandChild(Child):\n",
        "  def get_gender(self, gender):\n",
        "    self.gender = gender\n",
        "\n",
        "  def show_gender(self):\n",
        "    return self.name"
      ],
      "metadata": {
        "id": "T2Iuv35BEnCr"
      },
      "execution_count": 60,
      "outputs": []
    },
    {
      "cell_type": "code",
      "source": [
        "gc = GrandChild()"
      ],
      "metadata": {
        "id": "M1nxI93EE-HF"
      },
      "execution_count": 61,
      "outputs": []
    },
    {
      "cell_type": "code",
      "source": [
        "gc.get_name(\"Avinash\")"
      ],
      "metadata": {
        "id": "-FzZKbcnFtMk"
      },
      "execution_count": 62,
      "outputs": []
    },
    {
      "cell_type": "code",
      "source": [
        "gc.get_age(21)"
      ],
      "metadata": {
        "id": "VbrC2ySwFxlN"
      },
      "execution_count": 64,
      "outputs": []
    },
    {
      "cell_type": "code",
      "source": [
        "gc.get_gender('Male')"
      ],
      "metadata": {
        "id": "u9v1h533F3my"
      },
      "execution_count": 65,
      "outputs": []
    },
    {
      "cell_type": "code",
      "source": [
        "gc.show_name()"
      ],
      "metadata": {
        "colab": {
          "base_uri": "https://localhost:8080/",
          "height": 36
        },
        "id": "oeJFFJCrGAFb",
        "outputId": "7c609f7d-4ad9-40d3-9ba9-c07f8d7d9397"
      },
      "execution_count": 66,
      "outputs": [
        {
          "output_type": "execute_result",
          "data": {
            "text/plain": [
              "'Avinash'"
            ],
            "application/vnd.google.colaboratory.intrinsic+json": {
              "type": "string"
            }
          },
          "metadata": {},
          "execution_count": 66
        }
      ]
    },
    {
      "cell_type": "code",
      "source": [
        "gc.show_age()"
      ],
      "metadata": {
        "colab": {
          "base_uri": "https://localhost:8080/"
        },
        "id": "3vSOOs5JGFNk",
        "outputId": "077a0b0a-5b4f-406b-f2b4-9af36387c97f"
      },
      "execution_count": 67,
      "outputs": [
        {
          "output_type": "execute_result",
          "data": {
            "text/plain": [
              "21"
            ]
          },
          "metadata": {},
          "execution_count": 67
        }
      ]
    },
    {
      "cell_type": "code",
      "source": [
        "gc.show_gender()"
      ],
      "metadata": {
        "colab": {
          "base_uri": "https://localhost:8080/",
          "height": 36
        },
        "id": "9oSY80d3GIzU",
        "outputId": "d2cbbb56-5d21-4dbc-dab5-cf6054346c8c"
      },
      "execution_count": 68,
      "outputs": [
        {
          "output_type": "execute_result",
          "data": {
            "text/plain": [
              "'Avinash'"
            ],
            "application/vnd.google.colaboratory.intrinsic+json": {
              "type": "string"
            }
          },
          "metadata": {},
          "execution_count": 68
        }
      ]
    },
    {
      "cell_type": "code",
      "source": [],
      "metadata": {
        "id": "p0TXuAZVGMCL"
      },
      "execution_count": null,
      "outputs": []
    }
  ],
  "metadata": {
    "colab": {
      "provenance": [],
      "authorship_tag": "ABX9TyOiEUA1dBg3XhND1ycjwYfD",
      "include_colab_link": true
    },
    "kernelspec": {
      "display_name": "Python 3",
      "name": "python3"
    },
    "language_info": {
      "name": "python"
    }
  },
  "nbformat": 4,
  "nbformat_minor": 0
}